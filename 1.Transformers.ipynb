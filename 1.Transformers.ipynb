{
 "cells": [
  {
   "cell_type": "markdown",
   "metadata": {
    "id": "d5gPtSmF1IO4"
   },
   "source": [
    "# Transformadores, ¿qué pueden hacer?"
   ]
  },
  {
   "cell_type": "markdown",
   "metadata": {
    "id": "qlx29l5S2FFF"
   },
   "source": [
    "* Los Transformers son una arquitectura de red neuronal.\n",
    "\n",
    "* Pensemos en ellos como el diseño o el plano de cómo construir un tipo particular de modelo de lenguaje LLM\n",
    "\n",
    "* Es el marco dentro del cual se crea el modelo de lenguaje.\n"
   ]
  },
  {
   "cell_type": "markdown",
   "metadata": {
    "id": "GfRBTqdk4SRW"
   },
   "source": [
    "## Pipelines disponibles"
   ]
  },
  {
   "cell_type": "markdown",
   "metadata": {
    "id": "j12hLQk14W2f"
   },
   "source": [
    "Algunos de los pipelines disponibles son:\n",
    "\n",
    "* feature-extraction (obtener la representación vectorial de un texto)\n",
    "* fill-mask\n",
    "* ner (reconocimiento de entidades nombradas)\n",
    "* question-answering\n",
    "* sentiment-analysis\n",
    "* summarization\n",
    "* text-generation\n",
    "* translation\n",
    "* zero-shot-classification"
   ]
  },
  {
   "cell_type": "markdown",
   "metadata": {
    "id": "-QNHJF7OkHCu"
   },
   "source": [
    "### Temas a ver\n",
    "\n"
   ]
  },
  {
   "cell_type": "markdown",
   "metadata": {
    "id": "-xe33Oi31to6"
   },
   "source": [
    "* Cómo usar la función pipeline() para resolver tareas de PLN como la generación y clasificación de texto\n",
    "* Sobre la arquitectura de los Transformadores\n",
    "* Cómo distinguir entre las arquitecturas de codificador, decodificador y codificador-decofidicador, además de sus casos de uso\n",
    "\n",
    "\n",
    "---\n",
    "\n",
    "\n",
    "* How to use the pipeline() function to solve NLP tasks such as text generation and classification\n",
    "* About the Transformer architecture\n",
    "* How to distinguish between encoder, decoder, and encoder-decoder architectures and use cases"
   ]
  },
  {
   "cell_type": "code",
   "execution_count": null,
   "metadata": {
    "colab": {
     "base_uri": "https://localhost:8080/"
    },
    "collapsed": true,
    "executionInfo": {
     "elapsed": 9255,
     "status": "ok",
     "timestamp": 1745549125411,
     "user": {
      "displayName": "Eduardo Domínguez Navarrete",
      "userId": "12040235014086549296"
     },
     "user_tz": 360
    },
    "id": "AaPjXYdWkFb5",
    "outputId": "918255da-680c-4b7e-fb7a-a9fd8046e7a4"
   },
   "outputs": [
    {
     "name": "stdout",
     "output_type": "stream",
     "text": [
      "Requirement already satisfied: transformers in /usr/local/lib/python3.11/dist-packages (4.51.3)\n",
      "Requirement already satisfied: filelock in /usr/local/lib/python3.11/dist-packages (from transformers) (3.18.0)\n",
      "Requirement already satisfied: huggingface-hub<1.0,>=0.30.0 in /usr/local/lib/python3.11/dist-packages (from transformers) (0.30.2)\n",
      "Requirement already satisfied: numpy>=1.17 in /usr/local/lib/python3.11/dist-packages (from transformers) (2.0.2)\n",
      "Requirement already satisfied: packaging>=20.0 in /usr/local/lib/python3.11/dist-packages (from transformers) (24.2)\n",
      "Requirement already satisfied: pyyaml>=5.1 in /usr/local/lib/python3.11/dist-packages (from transformers) (6.0.2)\n",
      "Requirement already satisfied: regex!=2019.12.17 in /usr/local/lib/python3.11/dist-packages (from transformers) (2024.11.6)\n",
      "Requirement already satisfied: requests in /usr/local/lib/python3.11/dist-packages (from transformers) (2.32.3)\n",
      "Requirement already satisfied: tokenizers<0.22,>=0.21 in /usr/local/lib/python3.11/dist-packages (from transformers) (0.21.1)\n",
      "Requirement already satisfied: safetensors>=0.4.3 in /usr/local/lib/python3.11/dist-packages (from transformers) (0.5.3)\n",
      "Requirement already satisfied: tqdm>=4.27 in /usr/local/lib/python3.11/dist-packages (from transformers) (4.67.1)\n",
      "Requirement already satisfied: fsspec>=2023.5.0 in /usr/local/lib/python3.11/dist-packages (from huggingface-hub<1.0,>=0.30.0->transformers) (2025.3.2)\n",
      "Requirement already satisfied: typing-extensions>=3.7.4.3 in /usr/local/lib/python3.11/dist-packages (from huggingface-hub<1.0,>=0.30.0->transformers) (4.13.2)\n",
      "Requirement already satisfied: charset-normalizer<4,>=2 in /usr/local/lib/python3.11/dist-packages (from requests->transformers) (3.4.1)\n",
      "Requirement already satisfied: idna<4,>=2.5 in /usr/local/lib/python3.11/dist-packages (from requests->transformers) (3.10)\n",
      "Requirement already satisfied: urllib3<3,>=1.21.1 in /usr/local/lib/python3.11/dist-packages (from requests->transformers) (2.3.0)\n",
      "Requirement already satisfied: certifi>=2017.4.17 in /usr/local/lib/python3.11/dist-packages (from requests->transformers) (2025.1.31)\n"
     ]
    }
   ],
   "source": [
    "!pip install transformers"
   ]
  },
  {
   "cell_type": "markdown",
   "metadata": {
    "id": "9RrEvkg81m-E"
   },
   "source": [
    "### Code"
   ]
  },
  {
   "cell_type": "markdown",
   "metadata": {
    "id": "kdjSxUtC1IO5"
   },
   "source": [
    "Install the Transformers, Datasets, and Evaluate libraries to run this notebook."
   ]
  },
  {
   "cell_type": "markdown",
   "metadata": {
    "id": "_YrHXpKEQtzy"
   },
   "source": [
    "Por defecto, este ***pipeline*** selecciona un modelo particular preentrenado que ha sido ajustado para el análisis de sentimientos en Inglés. El modelo se descarga y se almacena en el caché."
   ]
  },
  {
   "cell_type": "code",
   "execution_count": null,
   "metadata": {
    "colab": {
     "base_uri": "https://localhost:8080/"
    },
    "collapsed": true,
    "executionInfo": {
     "elapsed": 46365,
     "status": "ok",
     "timestamp": 1745549171782,
     "user": {
      "displayName": "Eduardo Domínguez Navarrete",
      "userId": "12040235014086549296"
     },
     "user_tz": 360
    },
    "id": "gALQPyKH1IO5",
    "outputId": "d62f37ea-7a12-4a03-ffe7-aef6431f8c89"
   },
   "outputs": [
    {
     "name": "stdout",
     "output_type": "stream",
     "text": [
      "Collecting datasets\n",
      "  Downloading datasets-3.5.0-py3-none-any.whl.metadata (19 kB)\n",
      "Collecting evaluate\n",
      "  Downloading evaluate-0.4.3-py3-none-any.whl.metadata (9.2 kB)\n",
      "Requirement already satisfied: transformers[sentencepiece] in /usr/local/lib/python3.11/dist-packages (4.51.3)\n",
      "Requirement already satisfied: filelock in /usr/local/lib/python3.11/dist-packages (from datasets) (3.18.0)\n",
      "Requirement already satisfied: numpy>=1.17 in /usr/local/lib/python3.11/dist-packages (from datasets) (2.0.2)\n",
      "Requirement already satisfied: pyarrow>=15.0.0 in /usr/local/lib/python3.11/dist-packages (from datasets) (18.1.0)\n",
      "Collecting dill<0.3.9,>=0.3.0 (from datasets)\n",
      "  Downloading dill-0.3.8-py3-none-any.whl.metadata (10 kB)\n",
      "Requirement already satisfied: pandas in /usr/local/lib/python3.11/dist-packages (from datasets) (2.2.2)\n",
      "Requirement already satisfied: requests>=2.32.2 in /usr/local/lib/python3.11/dist-packages (from datasets) (2.32.3)\n",
      "Requirement already satisfied: tqdm>=4.66.3 in /usr/local/lib/python3.11/dist-packages (from datasets) (4.67.1)\n",
      "Collecting xxhash (from datasets)\n",
      "  Downloading xxhash-3.5.0-cp311-cp311-manylinux_2_17_x86_64.manylinux2014_x86_64.whl.metadata (12 kB)\n",
      "Collecting multiprocess<0.70.17 (from datasets)\n",
      "  Downloading multiprocess-0.70.16-py311-none-any.whl.metadata (7.2 kB)\n",
      "Collecting fsspec<=2024.12.0,>=2023.1.0 (from fsspec[http]<=2024.12.0,>=2023.1.0->datasets)\n",
      "  Downloading fsspec-2024.12.0-py3-none-any.whl.metadata (11 kB)\n",
      "Requirement already satisfied: aiohttp in /usr/local/lib/python3.11/dist-packages (from datasets) (3.11.15)\n",
      "Requirement already satisfied: huggingface-hub>=0.24.0 in /usr/local/lib/python3.11/dist-packages (from datasets) (0.30.2)\n",
      "Requirement already satisfied: packaging in /usr/local/lib/python3.11/dist-packages (from datasets) (24.2)\n",
      "Requirement already satisfied: pyyaml>=5.1 in /usr/local/lib/python3.11/dist-packages (from datasets) (6.0.2)\n",
      "Requirement already satisfied: regex!=2019.12.17 in /usr/local/lib/python3.11/dist-packages (from transformers[sentencepiece]) (2024.11.6)\n",
      "Requirement already satisfied: tokenizers<0.22,>=0.21 in /usr/local/lib/python3.11/dist-packages (from transformers[sentencepiece]) (0.21.1)\n",
      "Requirement already satisfied: safetensors>=0.4.3 in /usr/local/lib/python3.11/dist-packages (from transformers[sentencepiece]) (0.5.3)\n",
      "Requirement already satisfied: sentencepiece!=0.1.92,>=0.1.91 in /usr/local/lib/python3.11/dist-packages (from transformers[sentencepiece]) (0.2.0)\n",
      "Requirement already satisfied: protobuf in /usr/local/lib/python3.11/dist-packages (from transformers[sentencepiece]) (5.29.4)\n",
      "Requirement already satisfied: aiohappyeyeballs>=2.3.0 in /usr/local/lib/python3.11/dist-packages (from aiohttp->datasets) (2.6.1)\n",
      "Requirement already satisfied: aiosignal>=1.1.2 in /usr/local/lib/python3.11/dist-packages (from aiohttp->datasets) (1.3.2)\n",
      "Requirement already satisfied: attrs>=17.3.0 in /usr/local/lib/python3.11/dist-packages (from aiohttp->datasets) (25.3.0)\n",
      "Requirement already satisfied: frozenlist>=1.1.1 in /usr/local/lib/python3.11/dist-packages (from aiohttp->datasets) (1.6.0)\n",
      "Requirement already satisfied: multidict<7.0,>=4.5 in /usr/local/lib/python3.11/dist-packages (from aiohttp->datasets) (6.4.3)\n",
      "Requirement already satisfied: propcache>=0.2.0 in /usr/local/lib/python3.11/dist-packages (from aiohttp->datasets) (0.3.1)\n",
      "Requirement already satisfied: yarl<2.0,>=1.17.0 in /usr/local/lib/python3.11/dist-packages (from aiohttp->datasets) (1.20.0)\n",
      "Requirement already satisfied: typing-extensions>=3.7.4.3 in /usr/local/lib/python3.11/dist-packages (from huggingface-hub>=0.24.0->datasets) (4.13.2)\n",
      "Requirement already satisfied: charset-normalizer<4,>=2 in /usr/local/lib/python3.11/dist-packages (from requests>=2.32.2->datasets) (3.4.1)\n",
      "Requirement already satisfied: idna<4,>=2.5 in /usr/local/lib/python3.11/dist-packages (from requests>=2.32.2->datasets) (3.10)\n",
      "Requirement already satisfied: urllib3<3,>=1.21.1 in /usr/local/lib/python3.11/dist-packages (from requests>=2.32.2->datasets) (2.3.0)\n",
      "Requirement already satisfied: certifi>=2017.4.17 in /usr/local/lib/python3.11/dist-packages (from requests>=2.32.2->datasets) (2025.1.31)\n",
      "Requirement already satisfied: python-dateutil>=2.8.2 in /usr/local/lib/python3.11/dist-packages (from pandas->datasets) (2.8.2)\n",
      "Requirement already satisfied: pytz>=2020.1 in /usr/local/lib/python3.11/dist-packages (from pandas->datasets) (2025.2)\n",
      "Requirement already satisfied: tzdata>=2022.7 in /usr/local/lib/python3.11/dist-packages (from pandas->datasets) (2025.2)\n",
      "Requirement already satisfied: six>=1.5 in /usr/local/lib/python3.11/dist-packages (from python-dateutil>=2.8.2->pandas->datasets) (1.17.0)\n",
      "Downloading datasets-3.5.0-py3-none-any.whl (491 kB)\n",
      "\u001b[2K   \u001b[90m━━━━━━━━━━━━━━━━━━━━━━━━━━━━━━━━━━━━━━━━\u001b[0m \u001b[32m491.2/491.2 kB\u001b[0m \u001b[31m3.3 MB/s\u001b[0m eta \u001b[36m0:00:00\u001b[0m\n",
      "\u001b[?25hDownloading evaluate-0.4.3-py3-none-any.whl (84 kB)\n",
      "\u001b[2K   \u001b[90m━━━━━━━━━━━━━━━━━━━━━━━━━━━━━━━━━━━━━━━━\u001b[0m \u001b[32m84.0/84.0 kB\u001b[0m \u001b[31m3.2 MB/s\u001b[0m eta \u001b[36m0:00:00\u001b[0m\n",
      "\u001b[?25hDownloading dill-0.3.8-py3-none-any.whl (116 kB)\n",
      "\u001b[2K   \u001b[90m━━━━━━━━━━━━━━━━━━━━━━━━━━━━━━━━━━━━━━━━\u001b[0m \u001b[32m116.3/116.3 kB\u001b[0m \u001b[31m2.6 MB/s\u001b[0m eta \u001b[36m0:00:00\u001b[0m\n",
      "\u001b[?25hDownloading fsspec-2024.12.0-py3-none-any.whl (183 kB)\n",
      "\u001b[2K   \u001b[90m━━━━━━━━━━━━━━━━━━━━━━━━━━━━━━━━━━━━━━━━\u001b[0m \u001b[32m183.9/183.9 kB\u001b[0m \u001b[31m9.0 MB/s\u001b[0m eta \u001b[36m0:00:00\u001b[0m\n",
      "\u001b[?25hDownloading multiprocess-0.70.16-py311-none-any.whl (143 kB)\n",
      "\u001b[2K   \u001b[90m━━━━━━━━━━━━━━━━━━━━━━━━━━━━━━━━━━━━━━━━\u001b[0m \u001b[32m143.5/143.5 kB\u001b[0m \u001b[31m4.2 MB/s\u001b[0m eta \u001b[36m0:00:00\u001b[0m\n",
      "\u001b[?25hDownloading xxhash-3.5.0-cp311-cp311-manylinux_2_17_x86_64.manylinux2014_x86_64.whl (194 kB)\n",
      "\u001b[2K   \u001b[90m━━━━━━━━━━━━━━━━━━━━━━━━━━━━━━━━━━━━━━━━\u001b[0m \u001b[32m194.8/194.8 kB\u001b[0m \u001b[31m6.3 MB/s\u001b[0m eta \u001b[36m0:00:00\u001b[0m\n",
      "\u001b[?25hInstalling collected packages: xxhash, fsspec, dill, multiprocess, datasets, evaluate\n",
      "  Attempting uninstall: fsspec\n",
      "    Found existing installation: fsspec 2025.3.2\n",
      "    Uninstalling fsspec-2025.3.2:\n",
      "      Successfully uninstalled fsspec-2025.3.2\n",
      "\u001b[31mERROR: pip's dependency resolver does not currently take into account all the packages that are installed. This behaviour is the source of the following dependency conflicts.\n",
      "torch 2.6.0+cu124 requires nvidia-cublas-cu12==12.4.5.8; platform_system == \"Linux\" and platform_machine == \"x86_64\", but you have nvidia-cublas-cu12 12.5.3.2 which is incompatible.\n",
      "torch 2.6.0+cu124 requires nvidia-cuda-cupti-cu12==12.4.127; platform_system == \"Linux\" and platform_machine == \"x86_64\", but you have nvidia-cuda-cupti-cu12 12.5.82 which is incompatible.\n",
      "torch 2.6.0+cu124 requires nvidia-cuda-nvrtc-cu12==12.4.127; platform_system == \"Linux\" and platform_machine == \"x86_64\", but you have nvidia-cuda-nvrtc-cu12 12.5.82 which is incompatible.\n",
      "torch 2.6.0+cu124 requires nvidia-cuda-runtime-cu12==12.4.127; platform_system == \"Linux\" and platform_machine == \"x86_64\", but you have nvidia-cuda-runtime-cu12 12.5.82 which is incompatible.\n",
      "torch 2.6.0+cu124 requires nvidia-cudnn-cu12==9.1.0.70; platform_system == \"Linux\" and platform_machine == \"x86_64\", but you have nvidia-cudnn-cu12 9.3.0.75 which is incompatible.\n",
      "torch 2.6.0+cu124 requires nvidia-cufft-cu12==11.2.1.3; platform_system == \"Linux\" and platform_machine == \"x86_64\", but you have nvidia-cufft-cu12 11.2.3.61 which is incompatible.\n",
      "torch 2.6.0+cu124 requires nvidia-curand-cu12==10.3.5.147; platform_system == \"Linux\" and platform_machine == \"x86_64\", but you have nvidia-curand-cu12 10.3.6.82 which is incompatible.\n",
      "torch 2.6.0+cu124 requires nvidia-cusolver-cu12==11.6.1.9; platform_system == \"Linux\" and platform_machine == \"x86_64\", but you have nvidia-cusolver-cu12 11.6.3.83 which is incompatible.\n",
      "torch 2.6.0+cu124 requires nvidia-cusparse-cu12==12.3.1.170; platform_system == \"Linux\" and platform_machine == \"x86_64\", but you have nvidia-cusparse-cu12 12.5.1.3 which is incompatible.\n",
      "torch 2.6.0+cu124 requires nvidia-nvjitlink-cu12==12.4.127; platform_system == \"Linux\" and platform_machine == \"x86_64\", but you have nvidia-nvjitlink-cu12 12.5.82 which is incompatible.\n",
      "gcsfs 2025.3.2 requires fsspec==2025.3.2, but you have fsspec 2024.12.0 which is incompatible.\u001b[0m\u001b[31m\n",
      "\u001b[0mSuccessfully installed datasets-3.5.0 dill-0.3.8 evaluate-0.4.3 fsspec-2024.12.0 multiprocess-0.70.16 xxhash-3.5.0\n"
     ]
    }
   ],
   "source": [
    "!pip install datasets evaluate transformers[sentencepiece]"
   ]
  },
  {
   "cell_type": "code",
   "execution_count": null,
   "metadata": {
    "id": "5BFq5RyC1IO6",
    "outputId": "f7d92a99-40a7-4ffd-85fa-94319a31611b"
   },
   "outputs": [
    {
     "data": {
      "text/plain": [
       "[{'label': 'POSITIVE', 'score': 0.9598047137260437}]"
      ]
     },
     "execution_count": null,
     "metadata": {},
     "output_type": "execute_result"
    }
   ],
   "source": [
    "from transformers import pipeline\n",
    "\n",
    "classifier = pipeline(\"sentiment-analysis\")\n",
    "classifier(\"I've been waiting for a HuggingFace course my whole life.\")"
   ]
  },
  {
   "cell_type": "code",
   "execution_count": null,
   "metadata": {
    "id": "kGruzQHN1IO6",
    "outputId": "8d41fe36-f19f-408a-c093-8ddca00a72de"
   },
   "outputs": [
    {
     "data": {
      "text/plain": [
       "[{'label': 'POSITIVE', 'score': 0.9598047137260437},\n",
       " {'label': 'NEGATIVE', 'score': 0.9994558095932007}]"
      ]
     },
     "execution_count": null,
     "metadata": {},
     "output_type": "execute_result"
    }
   ],
   "source": [
    "classifier(\n",
    "    [\"I've been waiting for a HuggingFace course my whole life.\", \"I hate this so much!\"]\n",
    ")"
   ]
  },
  {
   "cell_type": "markdown",
   "metadata": {
    "id": "pk5rxP8JRO6h"
   },
   "source": [
    "Con el pipeline de \"zero-shot-classification\", podremos realizar una clasificación de nuestros textos con respecto labels que nosotros definamos.\n",
    "\n",
    "Permite que especifiques qué etiquetas usar para la clasificación, para que no dependas de las etiquetas del modelo preentrenado\n",
    "\n",
    "Este pipeline se llama zero-shot porque no necesitas ajustar el modelo con tus datos para usarlo. ¡Puede devolver directamente puntajes de probabilidad para cualquier lista de de etiquetas que escojas!"
   ]
  },
  {
   "cell_type": "code",
   "execution_count": null,
   "metadata": {
    "id": "CzJKvZfX1IO6",
    "outputId": "9644b52e-d0ac-4867-f21c-1cec206aa12e"
   },
   "outputs": [
    {
     "data": {
      "text/plain": [
       "{'sequence': 'This is a course about the Transformers library',\n",
       " 'labels': ['education', 'business', 'politics'],\n",
       " 'scores': [0.8445963859558105, 0.111976258456707, 0.043427448719739914]}"
      ]
     },
     "execution_count": null,
     "metadata": {},
     "output_type": "execute_result"
    }
   ],
   "source": [
    "from transformers import pipeline\n",
    "\n",
    "classifier = pipeline(\"zero-shot-classification\")\n",
    "classifier(\n",
    "    \"This is a course about the Transformers library\",\n",
    "    candidate_labels=[\"education\", \"politics\", \"business\"],\n",
    ")"
   ]
  },
  {
   "cell_type": "code",
   "execution_count": null,
   "metadata": {
    "id": "nmoEWRL61IO6",
    "outputId": "75b3220b-9131-493e-b8fc-f0a4dd48279f"
   },
   "outputs": [
    {
     "data": {
      "text/plain": [
       "[{'generated_text': 'In this course, we will teach you how to understand and use '\n",
       "                    'data flow and data interchange when handling user data. We '\n",
       "                    'will be working with one or more of the most commonly used '\n",
       "                    'data flows — data flows of various types, as seen by the '\n",
       "                    'HTTP'}]"
      ]
     },
     "execution_count": null,
     "metadata": {},
     "output_type": "execute_result"
    }
   ],
   "source": [
    "from transformers import pipeline\n",
    "\n",
    "generator = pipeline(\"text-generation\")\n",
    "generator(\"In this course, we will teach you how to\")"
   ]
  },
  {
   "cell_type": "markdown",
   "metadata": {
    "id": "S3KxXpgv1xBl"
   },
   "source": [
    "Aquí estams usando un modelo destilado de gpt echo por HF"
   ]
  },
  {
   "cell_type": "code",
   "execution_count": null,
   "metadata": {
    "id": "zrU7aU7m1IO7",
    "outputId": "5ff74cee-7cbb-4793-a87d-d5d48acc874a"
   },
   "outputs": [
    {
     "data": {
      "text/plain": [
       "[{'generated_text': 'In this course, we will teach you how to manipulate the world and '\n",
       "                    'move your mental and physical capabilities to your advantage.'},\n",
       " {'generated_text': 'In this course, we will teach you how to become an expert and '\n",
       "                    'practice realtime, and with a hands on experience on both real '\n",
       "                    'time and real'}]"
      ]
     },
     "execution_count": null,
     "metadata": {},
     "output_type": "execute_result"
    }
   ],
   "source": [
    "from transformers import pipeline\n",
    "\n",
    "generator = pipeline(\"text-generation\", model=\"distilgpt2\")\n",
    "generator(\n",
    "    \"In this course, we will teach you how to\",\n",
    "    max_length=30,\n",
    "    num_return_sequences=2,\n",
    ")"
   ]
  },
  {
   "cell_type": "markdown",
   "metadata": {
    "id": "C5cRzZlW2gSi"
   },
   "source": [
    "El pipeline fill-mask de Transformers está pensado para completar palabras o tokens concretos que marques con un token especial (por ejemplo [MASK])"
   ]
  },
  {
   "cell_type": "code",
   "execution_count": null,
   "metadata": {
    "id": "7_p5T8Uv1IO7",
    "outputId": "b0e82328-3b0e-477e-f25f-7881fcc7940b"
   },
   "outputs": [
    {
     "data": {
      "text/plain": [
       "[{'sequence': 'This course will teach you all about mathematical models.',\n",
       "  'score': 0.19619831442832947,\n",
       "  'token': 30412,\n",
       "  'token_str': ' mathematical'},\n",
       " {'sequence': 'This course will teach you all about computational models.',\n",
       "  'score': 0.04052725434303284,\n",
       "  'token': 38163,\n",
       "  'token_str': ' computational'}]"
      ]
     },
     "execution_count": null,
     "metadata": {},
     "output_type": "execute_result"
    }
   ],
   "source": [
    "from transformers import pipeline\n",
    "\n",
    "unmasker = pipeline(\"fill-mask\")\n",
    "unmasker(\"This course will teach you all about <mask> models.\", top_k=2)"
   ]
  },
  {
   "cell_type": "markdown",
   "metadata": {
    "id": "wg6eoB6LOwuy"
   },
   "source": [
    "El pipiline \"ner\" (named entity recognition), nos permite identificar las entidades de una oración (clasificarlo por etiquetas).\n",
    "\n",
    "Por defecto, Hugging Face carga un modelo ***finetuned***  sobre el dataset CoNLL-2003, que define:\n",
    "\n",
    "4 tipos de entidad semántica (los “grupos” que ves con grouped_entities=True):\n",
    "\n",
    "* PER (persona)\n",
    "\n",
    "* ORG (organización)\n",
    "\n",
    "* LOC (localización)\n",
    "\n",
    "* MISC (miscelánea: eventos, productos, obras, etc.)\n"
   ]
  },
  {
   "cell_type": "code",
   "execution_count": null,
   "metadata": {
    "id": "TsaC2Rs11IO7",
    "outputId": "edf02c01-912d-4b3a-e360-15e62c1a7136"
   },
   "outputs": [
    {
     "data": {
      "text/plain": [
       "[{'entity_group': 'PER', 'score': 0.99816, 'word': 'Sylvain', 'start': 11, 'end': 18}, \n",
       " {'entity_group': 'ORG', 'score': 0.97960, 'word': 'Hugging Face', 'start': 33, 'end': 45}, \n",
       " {'entity_group': 'LOC', 'score': 0.99321, 'word': 'Brooklyn', 'start': 49, 'end': 57}\n",
       "]"
      ]
     },
     "execution_count": null,
     "metadata": {},
     "output_type": "execute_result"
    }
   ],
   "source": [
    "from transformers import pipeline\n",
    "\n",
    "ner = pipeline(\"ner\", grouped_entities=True)\n",
    "ner(\"My name is Sylvain and I work at Hugging Face in Brooklyn.\")"
   ]
  },
  {
   "cell_type": "code",
   "execution_count": null,
   "metadata": {
    "id": "5jcoULSc1IO7",
    "outputId": "bea9812d-1518-4c13-9365-31d981c33ae8"
   },
   "outputs": [
    {
     "data": {
      "text/plain": [
       "{'score': 0.6385916471481323, 'start': 33, 'end': 45, 'answer': 'Hugging Face'}"
      ]
     },
     "execution_count": null,
     "metadata": {},
     "output_type": "execute_result"
    }
   ],
   "source": [
    "from transformers import pipeline\n",
    "\n",
    "question_answerer = pipeline(\"question-answering\")\n",
    "question_answerer(\n",
    "    question=\"Where do I work?\",\n",
    "    context=\"My name is Sylvain and I work at Hugging Face in Brooklyn\",\n",
    ")"
   ]
  },
  {
   "cell_type": "code",
   "execution_count": null,
   "metadata": {
    "id": "wsf2meR81IO7",
    "outputId": "963d0ebe-9f66-484f-9f8f-3d619331c201"
   },
   "outputs": [
    {
     "data": {
      "text/plain": [
       "[{'summary_text': ' America has changed dramatically during recent years . The '\n",
       "                  'number of engineering graduates in the U.S. has declined in '\n",
       "                  'traditional engineering disciplines such as mechanical, civil '\n",
       "                  ', electrical, chemical, and aeronautical engineering . Rapidly '\n",
       "                  'developing economies such as China and India, as well as other '\n",
       "                  'industrial countries in Europe and Asia, continue to encourage '\n",
       "                  'and advance engineering .'}]"
      ]
     },
     "execution_count": null,
     "metadata": {},
     "output_type": "execute_result"
    }
   ],
   "source": [
    "from transformers import pipeline\n",
    "\n",
    "summarizer = pipeline(\"summarization\")\n",
    "summarizer(\n",
    "    \"\"\"\n",
    "    America has changed dramatically during recent years. Not only has the number of\n",
    "    graduates in traditional engineering disciplines such as mechanical, civil,\n",
    "    electrical, chemical, and aeronautical engineering declined, but in most of\n",
    "    the premier American universities engineering curricula now concentrate on\n",
    "    and encourage largely the study of engineering science. As a result, there\n",
    "    are declining offerings in engineering subjects dealing with infrastructure,\n",
    "    the environment, and related issues, and greater concentration on high\n",
    "    technology subjects, largely supporting increasingly complex scientific\n",
    "    developments. While the latter is important, it should not be at the expense\n",
    "    of more traditional engineering.\n",
    "\n",
    "    Rapidly developing economies such as China and India, as well as other\n",
    "    industrial countries in Europe and Asia, continue to encourage and advance\n",
    "    the teaching of engineering. Both China and India, respectively, graduate\n",
    "    six and eight times as many traditional engineers as does the United States.\n",
    "    Other industrial countries at minimum maintain their output, while America\n",
    "    suffers an increasingly serious decline in the number of engineering graduates\n",
    "    and a lack of well-educated engineers.\n",
    "\"\"\"\n",
    ")"
   ]
  },
  {
   "cell_type": "code",
   "execution_count": null,
   "metadata": {
    "id": "kX_jqHwm1IO7",
    "outputId": "e683452f-c5a1-41f6-86c9-6b3a4717fe40"
   },
   "outputs": [
    {
     "data": {
      "text/plain": [
       "[{'translation_text': 'This course is produced by Hugging Face.'}]"
      ]
     },
     "execution_count": null,
     "metadata": {},
     "output_type": "execute_result"
    }
   ],
   "source": [
    "from transformers import pipeline\n",
    "\n",
    "translator = pipeline(\"translation\", model=\"Helsinki-NLP/opus-mt-fr-en\")\n",
    "translator(\"Ce cours est produit par Hugging Face.\")"
   ]
  },
  {
   "cell_type": "markdown",
   "metadata": {
    "id": "kEW7x7BP2kZU"
   },
   "source": [
    "## Podemos seleccionar algún modelo del Hugging Face Hub"
   ]
  },
  {
   "cell_type": "markdown",
   "metadata": {
    "id": "bkn83mXn3F1j"
   },
   "source": [
    "Aquí podremos seleccionar el modelo dependiendo el tipo de task que queremos realizar"
   ]
  },
  {
   "cell_type": "markdown",
   "metadata": {
    "id": "noeY-7uq2skH"
   },
   "source": [
    "Hugging Face Hub= https://huggingface.co/models"
   ]
  },
  {
   "cell_type": "markdown",
   "metadata": {
    "id": "vSCI_BDF28KB"
   },
   "source": [
    "![image.png](data:image/png;base64,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)"
   ]
  },
  {
   "cell_type": "markdown",
   "metadata": {
    "id": "lDJCgDul3jov"
   },
   "source": [
    "## Ejemplo donde se usa un modelo del HF Hub"
   ]
  },
  {
   "cell_type": "markdown",
   "metadata": {
    "id": "m3kLVOz23td0"
   },
   "source": [
    "Este modelo es en español, acomparación del modelo predeterminado que trae HF\n",
    "\n",
    "\n",
    "modelo usado: https://huggingface.co/mrm8488/distill-bert-base-spanish-wwm-cased-finetuned-spa-squad2-es"
   ]
  },
  {
   "cell_type": "code",
   "execution_count": null,
   "metadata": {
    "colab": {
     "base_uri": "https://localhost:8080/",
     "height": 425,
     "referenced_widgets": [
      "7c9d629524b94aa3a4fc9ab41245fdac",
      "8671de19ac854d6eb9e37af3710af3b0",
      "c3ac34c68e8347788f12e4a2de442a4d",
      "d34434ab01e849f59adb0d464612a381",
      "7e14845ff2a24ec0908d05dbcb336b89",
      "5c130489d6064eca8c15f06b2e611324",
      "f828914feb6048f0834ccaebca3cf863",
      "35a90bb8790646a492d5fa0d39df940c",
      "7f129822b7464b719fcc4a8c44bbe9be",
      "ecde2a018380428288ccde6679640b19",
      "eedd353bdee04f5482b902f3d2648f39",
      "b0bb72b0b5484942b1f6df7dd6f18771",
      "3003950b512947a98d02e417fd6ce053",
      "08ddbdd18e8640699b63deae6f9e2ec3",
      "f1154e32b9e245d8be371687a2a3387f",
      "aaeb3dc34a46462cbee16a6caf6e37b8",
      "64a27b3f6a964b5aaae270cfa09d172e",
      "587607fd50024f0e9d8ac181da1744c1",
      "3f10b51fed414282b6936f4612371ee0",
      "30f1b087bb0d4b7a956982e5c748ced0",
      "79771a42a7c14bef83dae4f44f3983b4",
      "ed720a335bf940918ee1a870a2c13888",
      "6f83f8b3b48146b79c9eb172562d7579",
      "c23b8892dc864d6aa607249d68463e1e",
      "85b5d5f8c1314eb88a52bd4a858b91f2",
      "62308e3292ad4c5985bcabc009cab7cc",
      "1725a6c935ea4a379d9881025840b6cd",
      "2d99930b14c444e5bc7e1dce0b391a7c",
      "328ca4e6106f4f5699cae688a122a05d",
      "78f8317daf424e2f8526488bd6075c16",
      "d6d29a321c88410e87312d33bebd2eb4",
      "9f1b3233b5b54187936dbeae0c38ae4c",
      "8420209fbf2242b7b3cc9ed40a2ff2da",
      "16de2881b442491e903fe4cc2264aafc",
      "a0182ec1673e4d1a8962b2592497f15e",
      "f005b605d664486597149952e94d7d4b",
      "026e676aa0684cf591015c4183ef93fd",
      "f54145b4ce0043bb80500a5bd504e6b4",
      "43792035a8034943b1beb02821dcb429",
      "9073b9c6e0704ea097911623df126b8f",
      "eb0c30569a03487bb96d509b17c87bc1",
      "14b2056faf3f4e238592c92e57ff43ee",
      "548f04cac648475cbd70ce045a47ca5e",
      "7b71231429804b22a4cf9b1bfa33f19e",
      "8cbd64cb3829441eba7fc10757e07df5",
      "6c2c1fe719ef4f56aeda614fa4623288",
      "2f3eeb9d722a411f97a71be899e9d649",
      "6d755b033b60489398f46e422794c4d8",
      "c38e0961872d43f79f560fae360ff534",
      "8ad496038c24463794231fe84db89bdf",
      "07d2364dce58426ca6461d4ecdc971bb",
      "5e4232a8edff438eb8d09ab90a71ad5a",
      "454d1eb5947046fdbfaedd619eca69c2",
      "c2bfff22b0f64e5eb5ffd01fa56933e0",
      "1f8fa69c42bd43d7b779539b1cb86ea7",
      "b686ce3479984162b17cfc85475f5ae9",
      "4eed19b9618b4b82b24da89e66cefc24",
      "d0a9be09e597405da7be5c663010f09b",
      "7ab87ff106944ca09f54402fe7b4c687",
      "f9f9f27221744976960f31827045eceb",
      "da759ba2fc254867be8a40bc14b1cb59",
      "73548760d6e943ea952486e3eeccfbf0",
      "3b28fdb10235411a8c20d342f96fd04f",
      "0fd0606a89764ba29cb10af53bd8ec0d",
      "b09b593d61104e8e906d05f71c10357f",
      "7a909797daab4060aa750f955574805c"
     ]
    },
    "executionInfo": {
     "elapsed": 36105,
     "status": "ok",
     "timestamp": 1745549402649,
     "user": {
      "displayName": "Eduardo Domínguez Navarrete",
      "userId": "12040235014086549296"
     },
     "user_tz": 360
    },
    "id": "NNGH87yl1dyH",
    "outputId": "69a66872-620d-4af9-e46a-dcedd3a9c40d"
   },
   "outputs": [
    {
     "name": "stderr",
     "output_type": "stream",
     "text": [
      "/usr/local/lib/python3.11/dist-packages/huggingface_hub/utils/_auth.py:94: UserWarning: \n",
      "The secret `HF_TOKEN` does not exist in your Colab secrets.\n",
      "To authenticate with the Hugging Face Hub, create a token in your settings tab (https://huggingface.co/settings/tokens), set it as secret in your Google Colab and restart your session.\n",
      "You will be able to reuse this secret in all of your notebooks.\n",
      "Please note that authentication is recommended but still optional to access public models or datasets.\n",
      "  warnings.warn(\n"
     ]
    },
    {
     "data": {
      "application/vnd.jupyter.widget-view+json": {
       "model_id": "7c9d629524b94aa3a4fc9ab41245fdac",
       "version_major": 2,
       "version_minor": 0
      },
      "text/plain": [
       "config.json:   0%|          | 0.00/465 [00:00<?, ?B/s]"
      ]
     },
     "metadata": {},
     "output_type": "display_data"
    },
    {
     "data": {
      "application/vnd.jupyter.widget-view+json": {
       "model_id": "b0bb72b0b5484942b1f6df7dd6f18771",
       "version_major": 2,
       "version_minor": 0
      },
      "text/plain": [
       "pytorch_model.bin:   0%|          | 0.00/439M [00:00<?, ?B/s]"
      ]
     },
     "metadata": {},
     "output_type": "display_data"
    },
    {
     "name": "stderr",
     "output_type": "stream",
     "text": [
      "Some weights of the model checkpoint at mrm8488/distill-bert-base-spanish-wwm-cased-finetuned-spa-squad2-es were not used when initializing BertForQuestionAnswering: ['bert.pooler.dense.bias', 'bert.pooler.dense.weight']\n",
      "- This IS expected if you are initializing BertForQuestionAnswering from the checkpoint of a model trained on another task or with another architecture (e.g. initializing a BertForSequenceClassification model from a BertForPreTraining model).\n",
      "- This IS NOT expected if you are initializing BertForQuestionAnswering from the checkpoint of a model that you expect to be exactly identical (initializing a BertForSequenceClassification model from a BertForSequenceClassification model).\n"
     ]
    },
    {
     "data": {
      "application/vnd.jupyter.widget-view+json": {
       "model_id": "6f83f8b3b48146b79c9eb172562d7579",
       "version_major": 2,
       "version_minor": 0
      },
      "text/plain": [
       "model.safetensors:   0%|          | 0.00/439M [00:00<?, ?B/s]"
      ]
     },
     "metadata": {},
     "output_type": "display_data"
    },
    {
     "data": {
      "application/vnd.jupyter.widget-view+json": {
       "model_id": "16de2881b442491e903fe4cc2264aafc",
       "version_major": 2,
       "version_minor": 0
      },
      "text/plain": [
       "tokenizer_config.json:   0%|          | 0.00/135 [00:00<?, ?B/s]"
      ]
     },
     "metadata": {},
     "output_type": "display_data"
    },
    {
     "data": {
      "application/vnd.jupyter.widget-view+json": {
       "model_id": "8cbd64cb3829441eba7fc10757e07df5",
       "version_major": 2,
       "version_minor": 0
      },
      "text/plain": [
       "vocab.txt:   0%|          | 0.00/242k [00:00<?, ?B/s]"
      ]
     },
     "metadata": {},
     "output_type": "display_data"
    },
    {
     "data": {
      "application/vnd.jupyter.widget-view+json": {
       "model_id": "b686ce3479984162b17cfc85475f5ae9",
       "version_major": 2,
       "version_minor": 0
      },
      "text/plain": [
       "special_tokens_map.json:   0%|          | 0.00/112 [00:00<?, ?B/s]"
      ]
     },
     "metadata": {},
     "output_type": "display_data"
    },
    {
     "name": "stderr",
     "output_type": "stream",
     "text": [
      "Device set to use cpu\n"
     ]
    },
    {
     "data": {
      "text/plain": [
       "{'score': 0.9656603336334229, 'start': 21, 'end': 24, 'answer': 'ibm'}"
      ]
     },
     "execution_count": 3,
     "metadata": {},
     "output_type": "execute_result"
    }
   ],
   "source": [
    "from transformers import pipeline\n",
    "\n",
    "question = pipeline(\"question-answering\", model = \"mrm8488/distill-bert-base-spanish-wwm-cased-finetuned-spa-squad2-es\")\n",
    "question (question='donde trabajo?', context= 'soy edu y trabajo en ibm' )"
   ]
  }
 ],
 "metadata": {
  "colab": {
   "provenance": [
    {
     "file_id": "https://github.com/huggingface/notebooks/blob/master/course/es/chapter1/section3.ipynb",
     "timestamp": 1745532267019
    }
   ]
  },
  "kernelspec": {
   "display_name": "Python 3",
   "name": "python3"
  },
  "language_info": {
   "name": "python"
  },
  "widgets": {
   "application/vnd.jupyter.widget-state+json": {
    "026e676aa0684cf591015c4183ef93fd": {
     "model_module": "@jupyter-widgets/controls",
     "model_module_version": "1.5.0",
     "model_name": "HTMLModel",
     "state": {
      "_dom_classes": [],
      "_model_module": "@jupyter-widgets/controls",
      "_model_module_version": "1.5.0",
      "_model_name": "HTMLModel",
      "_view_count": null,
      "_view_module": "@jupyter-widgets/controls",
      "_view_module_version": "1.5.0",
      "_view_name": "HTMLView",
      "description": "",
      "description_tooltip": null,
      "layout": "IPY_MODEL_548f04cac648475cbd70ce045a47ca5e",
      "placeholder": "​",
      "style": "IPY_MODEL_7b71231429804b22a4cf9b1bfa33f19e",
      "value": " 135/135 [00:00&lt;00:00, 3.45kB/s]"
     }
    },
    "07d2364dce58426ca6461d4ecdc971bb": {
     "model_module": "@jupyter-widgets/controls",
     "model_module_version": "1.5.0",
     "model_name": "DescriptionStyleModel",
     "state": {
      "_model_module": "@jupyter-widgets/controls",
      "_model_module_version": "1.5.0",
      "_model_name": "DescriptionStyleModel",
      "_view_count": null,
      "_view_module": "@jupyter-widgets/base",
      "_view_module_version": "1.2.0",
      "_view_name": "StyleView",
      "description_width": ""
     }
    },
    "08ddbdd18e8640699b63deae6f9e2ec3": {
     "model_module": "@jupyter-widgets/controls",
     "model_module_version": "1.5.0",
     "model_name": "FloatProgressModel",
     "state": {
      "_dom_classes": [],
      "_model_module": "@jupyter-widgets/controls",
      "_model_module_version": "1.5.0",
      "_model_name": "FloatProgressModel",
      "_view_count": null,
      "_view_module": "@jupyter-widgets/controls",
      "_view_module_version": "1.5.0",
      "_view_name": "ProgressView",
      "bar_style": "success",
      "description": "",
      "description_tooltip": null,
      "layout": "IPY_MODEL_3f10b51fed414282b6936f4612371ee0",
      "max": 439457860,
      "min": 0,
      "orientation": "horizontal",
      "style": "IPY_MODEL_30f1b087bb0d4b7a956982e5c748ced0",
      "value": 439457860
     }
    },
    "0fd0606a89764ba29cb10af53bd8ec0d": {
     "model_module": "@jupyter-widgets/controls",
     "model_module_version": "1.5.0",
     "model_name": "ProgressStyleModel",
     "state": {
      "_model_module": "@jupyter-widgets/controls",
      "_model_module_version": "1.5.0",
      "_model_name": "ProgressStyleModel",
      "_view_count": null,
      "_view_module": "@jupyter-widgets/base",
      "_view_module_version": "1.2.0",
      "_view_name": "StyleView",
      "bar_color": null,
      "description_width": ""
     }
    },
    "14b2056faf3f4e238592c92e57ff43ee": {
     "model_module": "@jupyter-widgets/controls",
     "model_module_version": "1.5.0",
     "model_name": "ProgressStyleModel",
     "state": {
      "_model_module": "@jupyter-widgets/controls",
      "_model_module_version": "1.5.0",
      "_model_name": "ProgressStyleModel",
      "_view_count": null,
      "_view_module": "@jupyter-widgets/base",
      "_view_module_version": "1.2.0",
      "_view_name": "StyleView",
      "bar_color": null,
      "description_width": ""
     }
    },
    "16de2881b442491e903fe4cc2264aafc": {
     "model_module": "@jupyter-widgets/controls",
     "model_module_version": "1.5.0",
     "model_name": "HBoxModel",
     "state": {
      "_dom_classes": [],
      "_model_module": "@jupyter-widgets/controls",
      "_model_module_version": "1.5.0",
      "_model_name": "HBoxModel",
      "_view_count": null,
      "_view_module": "@jupyter-widgets/controls",
      "_view_module_version": "1.5.0",
      "_view_name": "HBoxView",
      "box_style": "",
      "children": [
       "IPY_MODEL_a0182ec1673e4d1a8962b2592497f15e",
       "IPY_MODEL_f005b605d664486597149952e94d7d4b",
       "IPY_MODEL_026e676aa0684cf591015c4183ef93fd"
      ],
      "layout": "IPY_MODEL_f54145b4ce0043bb80500a5bd504e6b4"
     }
    },
    "1725a6c935ea4a379d9881025840b6cd": {
     "model_module": "@jupyter-widgets/base",
     "model_module_version": "1.2.0",
     "model_name": "LayoutModel",
     "state": {
      "_model_module": "@jupyter-widgets/base",
      "_model_module_version": "1.2.0",
      "_model_name": "LayoutModel",
      "_view_count": null,
      "_view_module": "@jupyter-widgets/base",
      "_view_module_version": "1.2.0",
      "_view_name": "LayoutView",
      "align_content": null,
      "align_items": null,
      "align_self": null,
      "border": null,
      "bottom": null,
      "display": null,
      "flex": null,
      "flex_flow": null,
      "grid_area": null,
      "grid_auto_columns": null,
      "grid_auto_flow": null,
      "grid_auto_rows": null,
      "grid_column": null,
      "grid_gap": null,
      "grid_row": null,
      "grid_template_areas": null,
      "grid_template_columns": null,
      "grid_template_rows": null,
      "height": null,
      "justify_content": null,
      "justify_items": null,
      "left": null,
      "margin": null,
      "max_height": null,
      "max_width": null,
      "min_height": null,
      "min_width": null,
      "object_fit": null,
      "object_position": null,
      "order": null,
      "overflow": null,
      "overflow_x": null,
      "overflow_y": null,
      "padding": null,
      "right": null,
      "top": null,
      "visibility": null,
      "width": null
     }
    },
    "1f8fa69c42bd43d7b779539b1cb86ea7": {
     "model_module": "@jupyter-widgets/controls",
     "model_module_version": "1.5.0",
     "model_name": "DescriptionStyleModel",
     "state": {
      "_model_module": "@jupyter-widgets/controls",
      "_model_module_version": "1.5.0",
      "_model_name": "DescriptionStyleModel",
      "_view_count": null,
      "_view_module": "@jupyter-widgets/base",
      "_view_module_version": "1.2.0",
      "_view_name": "StyleView",
      "description_width": ""
     }
    },
    "2d99930b14c444e5bc7e1dce0b391a7c": {
     "model_module": "@jupyter-widgets/base",
     "model_module_version": "1.2.0",
     "model_name": "LayoutModel",
     "state": {
      "_model_module": "@jupyter-widgets/base",
      "_model_module_version": "1.2.0",
      "_model_name": "LayoutModel",
      "_view_count": null,
      "_view_module": "@jupyter-widgets/base",
      "_view_module_version": "1.2.0",
      "_view_name": "LayoutView",
      "align_content": null,
      "align_items": null,
      "align_self": null,
      "border": null,
      "bottom": null,
      "display": null,
      "flex": null,
      "flex_flow": null,
      "grid_area": null,
      "grid_auto_columns": null,
      "grid_auto_flow": null,
      "grid_auto_rows": null,
      "grid_column": null,
      "grid_gap": null,
      "grid_row": null,
      "grid_template_areas": null,
      "grid_template_columns": null,
      "grid_template_rows": null,
      "height": null,
      "justify_content": null,
      "justify_items": null,
      "left": null,
      "margin": null,
      "max_height": null,
      "max_width": null,
      "min_height": null,
      "min_width": null,
      "object_fit": null,
      "object_position": null,
      "order": null,
      "overflow": null,
      "overflow_x": null,
      "overflow_y": null,
      "padding": null,
      "right": null,
      "top": null,
      "visibility": null,
      "width": null
     }
    },
    "2f3eeb9d722a411f97a71be899e9d649": {
     "model_module": "@jupyter-widgets/controls",
     "model_module_version": "1.5.0",
     "model_name": "FloatProgressModel",
     "state": {
      "_dom_classes": [],
      "_model_module": "@jupyter-widgets/controls",
      "_model_module_version": "1.5.0",
      "_model_name": "FloatProgressModel",
      "_view_count": null,
      "_view_module": "@jupyter-widgets/controls",
      "_view_module_version": "1.5.0",
      "_view_name": "ProgressView",
      "bar_style": "success",
      "description": "",
      "description_tooltip": null,
      "layout": "IPY_MODEL_5e4232a8edff438eb8d09ab90a71ad5a",
      "max": 242349,
      "min": 0,
      "orientation": "horizontal",
      "style": "IPY_MODEL_454d1eb5947046fdbfaedd619eca69c2",
      "value": 242349
     }
    },
    "3003950b512947a98d02e417fd6ce053": {
     "model_module": "@jupyter-widgets/controls",
     "model_module_version": "1.5.0",
     "model_name": "HTMLModel",
     "state": {
      "_dom_classes": [],
      "_model_module": "@jupyter-widgets/controls",
      "_model_module_version": "1.5.0",
      "_model_name": "HTMLModel",
      "_view_count": null,
      "_view_module": "@jupyter-widgets/controls",
      "_view_module_version": "1.5.0",
      "_view_name": "HTMLView",
      "description": "",
      "description_tooltip": null,
      "layout": "IPY_MODEL_64a27b3f6a964b5aaae270cfa09d172e",
      "placeholder": "​",
      "style": "IPY_MODEL_587607fd50024f0e9d8ac181da1744c1",
      "value": "pytorch_model.bin: 100%"
     }
    },
    "30f1b087bb0d4b7a956982e5c748ced0": {
     "model_module": "@jupyter-widgets/controls",
     "model_module_version": "1.5.0",
     "model_name": "ProgressStyleModel",
     "state": {
      "_model_module": "@jupyter-widgets/controls",
      "_model_module_version": "1.5.0",
      "_model_name": "ProgressStyleModel",
      "_view_count": null,
      "_view_module": "@jupyter-widgets/base",
      "_view_module_version": "1.2.0",
      "_view_name": "StyleView",
      "bar_color": null,
      "description_width": ""
     }
    },
    "328ca4e6106f4f5699cae688a122a05d": {
     "model_module": "@jupyter-widgets/controls",
     "model_module_version": "1.5.0",
     "model_name": "DescriptionStyleModel",
     "state": {
      "_model_module": "@jupyter-widgets/controls",
      "_model_module_version": "1.5.0",
      "_model_name": "DescriptionStyleModel",
      "_view_count": null,
      "_view_module": "@jupyter-widgets/base",
      "_view_module_version": "1.2.0",
      "_view_name": "StyleView",
      "description_width": ""
     }
    },
    "35a90bb8790646a492d5fa0d39df940c": {
     "model_module": "@jupyter-widgets/base",
     "model_module_version": "1.2.0",
     "model_name": "LayoutModel",
     "state": {
      "_model_module": "@jupyter-widgets/base",
      "_model_module_version": "1.2.0",
      "_model_name": "LayoutModel",
      "_view_count": null,
      "_view_module": "@jupyter-widgets/base",
      "_view_module_version": "1.2.0",
      "_view_name": "LayoutView",
      "align_content": null,
      "align_items": null,
      "align_self": null,
      "border": null,
      "bottom": null,
      "display": null,
      "flex": null,
      "flex_flow": null,
      "grid_area": null,
      "grid_auto_columns": null,
      "grid_auto_flow": null,
      "grid_auto_rows": null,
      "grid_column": null,
      "grid_gap": null,
      "grid_row": null,
      "grid_template_areas": null,
      "grid_template_columns": null,
      "grid_template_rows": null,
      "height": null,
      "justify_content": null,
      "justify_items": null,
      "left": null,
      "margin": null,
      "max_height": null,
      "max_width": null,
      "min_height": null,
      "min_width": null,
      "object_fit": null,
      "object_position": null,
      "order": null,
      "overflow": null,
      "overflow_x": null,
      "overflow_y": null,
      "padding": null,
      "right": null,
      "top": null,
      "visibility": null,
      "width": null
     }
    },
    "3b28fdb10235411a8c20d342f96fd04f": {
     "model_module": "@jupyter-widgets/base",
     "model_module_version": "1.2.0",
     "model_name": "LayoutModel",
     "state": {
      "_model_module": "@jupyter-widgets/base",
      "_model_module_version": "1.2.0",
      "_model_name": "LayoutModel",
      "_view_count": null,
      "_view_module": "@jupyter-widgets/base",
      "_view_module_version": "1.2.0",
      "_view_name": "LayoutView",
      "align_content": null,
      "align_items": null,
      "align_self": null,
      "border": null,
      "bottom": null,
      "display": null,
      "flex": null,
      "flex_flow": null,
      "grid_area": null,
      "grid_auto_columns": null,
      "grid_auto_flow": null,
      "grid_auto_rows": null,
      "grid_column": null,
      "grid_gap": null,
      "grid_row": null,
      "grid_template_areas": null,
      "grid_template_columns": null,
      "grid_template_rows": null,
      "height": null,
      "justify_content": null,
      "justify_items": null,
      "left": null,
      "margin": null,
      "max_height": null,
      "max_width": null,
      "min_height": null,
      "min_width": null,
      "object_fit": null,
      "object_position": null,
      "order": null,
      "overflow": null,
      "overflow_x": null,
      "overflow_y": null,
      "padding": null,
      "right": null,
      "top": null,
      "visibility": null,
      "width": null
     }
    },
    "3f10b51fed414282b6936f4612371ee0": {
     "model_module": "@jupyter-widgets/base",
     "model_module_version": "1.2.0",
     "model_name": "LayoutModel",
     "state": {
      "_model_module": "@jupyter-widgets/base",
      "_model_module_version": "1.2.0",
      "_model_name": "LayoutModel",
      "_view_count": null,
      "_view_module": "@jupyter-widgets/base",
      "_view_module_version": "1.2.0",
      "_view_name": "LayoutView",
      "align_content": null,
      "align_items": null,
      "align_self": null,
      "border": null,
      "bottom": null,
      "display": null,
      "flex": null,
      "flex_flow": null,
      "grid_area": null,
      "grid_auto_columns": null,
      "grid_auto_flow": null,
      "grid_auto_rows": null,
      "grid_column": null,
      "grid_gap": null,
      "grid_row": null,
      "grid_template_areas": null,
      "grid_template_columns": null,
      "grid_template_rows": null,
      "height": null,
      "justify_content": null,
      "justify_items": null,
      "left": null,
      "margin": null,
      "max_height": null,
      "max_width": null,
      "min_height": null,
      "min_width": null,
      "object_fit": null,
      "object_position": null,
      "order": null,
      "overflow": null,
      "overflow_x": null,
      "overflow_y": null,
      "padding": null,
      "right": null,
      "top": null,
      "visibility": null,
      "width": null
     }
    },
    "43792035a8034943b1beb02821dcb429": {
     "model_module": "@jupyter-widgets/base",
     "model_module_version": "1.2.0",
     "model_name": "LayoutModel",
     "state": {
      "_model_module": "@jupyter-widgets/base",
      "_model_module_version": "1.2.0",
      "_model_name": "LayoutModel",
      "_view_count": null,
      "_view_module": "@jupyter-widgets/base",
      "_view_module_version": "1.2.0",
      "_view_name": "LayoutView",
      "align_content": null,
      "align_items": null,
      "align_self": null,
      "border": null,
      "bottom": null,
      "display": null,
      "flex": null,
      "flex_flow": null,
      "grid_area": null,
      "grid_auto_columns": null,
      "grid_auto_flow": null,
      "grid_auto_rows": null,
      "grid_column": null,
      "grid_gap": null,
      "grid_row": null,
      "grid_template_areas": null,
      "grid_template_columns": null,
      "grid_template_rows": null,
      "height": null,
      "justify_content": null,
      "justify_items": null,
      "left": null,
      "margin": null,
      "max_height": null,
      "max_width": null,
      "min_height": null,
      "min_width": null,
      "object_fit": null,
      "object_position": null,
      "order": null,
      "overflow": null,
      "overflow_x": null,
      "overflow_y": null,
      "padding": null,
      "right": null,
      "top": null,
      "visibility": null,
      "width": null
     }
    },
    "454d1eb5947046fdbfaedd619eca69c2": {
     "model_module": "@jupyter-widgets/controls",
     "model_module_version": "1.5.0",
     "model_name": "ProgressStyleModel",
     "state": {
      "_model_module": "@jupyter-widgets/controls",
      "_model_module_version": "1.5.0",
      "_model_name": "ProgressStyleModel",
      "_view_count": null,
      "_view_module": "@jupyter-widgets/base",
      "_view_module_version": "1.2.0",
      "_view_name": "StyleView",
      "bar_color": null,
      "description_width": ""
     }
    },
    "4eed19b9618b4b82b24da89e66cefc24": {
     "model_module": "@jupyter-widgets/controls",
     "model_module_version": "1.5.0",
     "model_name": "HTMLModel",
     "state": {
      "_dom_classes": [],
      "_model_module": "@jupyter-widgets/controls",
      "_model_module_version": "1.5.0",
      "_model_name": "HTMLModel",
      "_view_count": null,
      "_view_module": "@jupyter-widgets/controls",
      "_view_module_version": "1.5.0",
      "_view_name": "HTMLView",
      "description": "",
      "description_tooltip": null,
      "layout": "IPY_MODEL_da759ba2fc254867be8a40bc14b1cb59",
      "placeholder": "​",
      "style": "IPY_MODEL_73548760d6e943ea952486e3eeccfbf0",
      "value": "special_tokens_map.json: 100%"
     }
    },
    "548f04cac648475cbd70ce045a47ca5e": {
     "model_module": "@jupyter-widgets/base",
     "model_module_version": "1.2.0",
     "model_name": "LayoutModel",
     "state": {
      "_model_module": "@jupyter-widgets/base",
      "_model_module_version": "1.2.0",
      "_model_name": "LayoutModel",
      "_view_count": null,
      "_view_module": "@jupyter-widgets/base",
      "_view_module_version": "1.2.0",
      "_view_name": "LayoutView",
      "align_content": null,
      "align_items": null,
      "align_self": null,
      "border": null,
      "bottom": null,
      "display": null,
      "flex": null,
      "flex_flow": null,
      "grid_area": null,
      "grid_auto_columns": null,
      "grid_auto_flow": null,
      "grid_auto_rows": null,
      "grid_column": null,
      "grid_gap": null,
      "grid_row": null,
      "grid_template_areas": null,
      "grid_template_columns": null,
      "grid_template_rows": null,
      "height": null,
      "justify_content": null,
      "justify_items": null,
      "left": null,
      "margin": null,
      "max_height": null,
      "max_width": null,
      "min_height": null,
      "min_width": null,
      "object_fit": null,
      "object_position": null,
      "order": null,
      "overflow": null,
      "overflow_x": null,
      "overflow_y": null,
      "padding": null,
      "right": null,
      "top": null,
      "visibility": null,
      "width": null
     }
    },
    "587607fd50024f0e9d8ac181da1744c1": {
     "model_module": "@jupyter-widgets/controls",
     "model_module_version": "1.5.0",
     "model_name": "DescriptionStyleModel",
     "state": {
      "_model_module": "@jupyter-widgets/controls",
      "_model_module_version": "1.5.0",
      "_model_name": "DescriptionStyleModel",
      "_view_count": null,
      "_view_module": "@jupyter-widgets/base",
      "_view_module_version": "1.2.0",
      "_view_name": "StyleView",
      "description_width": ""
     }
    },
    "5c130489d6064eca8c15f06b2e611324": {
     "model_module": "@jupyter-widgets/base",
     "model_module_version": "1.2.0",
     "model_name": "LayoutModel",
     "state": {
      "_model_module": "@jupyter-widgets/base",
      "_model_module_version": "1.2.0",
      "_model_name": "LayoutModel",
      "_view_count": null,
      "_view_module": "@jupyter-widgets/base",
      "_view_module_version": "1.2.0",
      "_view_name": "LayoutView",
      "align_content": null,
      "align_items": null,
      "align_self": null,
      "border": null,
      "bottom": null,
      "display": null,
      "flex": null,
      "flex_flow": null,
      "grid_area": null,
      "grid_auto_columns": null,
      "grid_auto_flow": null,
      "grid_auto_rows": null,
      "grid_column": null,
      "grid_gap": null,
      "grid_row": null,
      "grid_template_areas": null,
      "grid_template_columns": null,
      "grid_template_rows": null,
      "height": null,
      "justify_content": null,
      "justify_items": null,
      "left": null,
      "margin": null,
      "max_height": null,
      "max_width": null,
      "min_height": null,
      "min_width": null,
      "object_fit": null,
      "object_position": null,
      "order": null,
      "overflow": null,
      "overflow_x": null,
      "overflow_y": null,
      "padding": null,
      "right": null,
      "top": null,
      "visibility": null,
      "width": null
     }
    },
    "5e4232a8edff438eb8d09ab90a71ad5a": {
     "model_module": "@jupyter-widgets/base",
     "model_module_version": "1.2.0",
     "model_name": "LayoutModel",
     "state": {
      "_model_module": "@jupyter-widgets/base",
      "_model_module_version": "1.2.0",
      "_model_name": "LayoutModel",
      "_view_count": null,
      "_view_module": "@jupyter-widgets/base",
      "_view_module_version": "1.2.0",
      "_view_name": "LayoutView",
      "align_content": null,
      "align_items": null,
      "align_self": null,
      "border": null,
      "bottom": null,
      "display": null,
      "flex": null,
      "flex_flow": null,
      "grid_area": null,
      "grid_auto_columns": null,
      "grid_auto_flow": null,
      "grid_auto_rows": null,
      "grid_column": null,
      "grid_gap": null,
      "grid_row": null,
      "grid_template_areas": null,
      "grid_template_columns": null,
      "grid_template_rows": null,
      "height": null,
      "justify_content": null,
      "justify_items": null,
      "left": null,
      "margin": null,
      "max_height": null,
      "max_width": null,
      "min_height": null,
      "min_width": null,
      "object_fit": null,
      "object_position": null,
      "order": null,
      "overflow": null,
      "overflow_x": null,
      "overflow_y": null,
      "padding": null,
      "right": null,
      "top": null,
      "visibility": null,
      "width": null
     }
    },
    "62308e3292ad4c5985bcabc009cab7cc": {
     "model_module": "@jupyter-widgets/controls",
     "model_module_version": "1.5.0",
     "model_name": "HTMLModel",
     "state": {
      "_dom_classes": [],
      "_model_module": "@jupyter-widgets/controls",
      "_model_module_version": "1.5.0",
      "_model_name": "HTMLModel",
      "_view_count": null,
      "_view_module": "@jupyter-widgets/controls",
      "_view_module_version": "1.5.0",
      "_view_name": "HTMLView",
      "description": "",
      "description_tooltip": null,
      "layout": "IPY_MODEL_9f1b3233b5b54187936dbeae0c38ae4c",
      "placeholder": "​",
      "style": "IPY_MODEL_8420209fbf2242b7b3cc9ed40a2ff2da",
      "value": " 439M/439M [00:03&lt;00:00, 178MB/s]"
     }
    },
    "64a27b3f6a964b5aaae270cfa09d172e": {
     "model_module": "@jupyter-widgets/base",
     "model_module_version": "1.2.0",
     "model_name": "LayoutModel",
     "state": {
      "_model_module": "@jupyter-widgets/base",
      "_model_module_version": "1.2.0",
      "_model_name": "LayoutModel",
      "_view_count": null,
      "_view_module": "@jupyter-widgets/base",
      "_view_module_version": "1.2.0",
      "_view_name": "LayoutView",
      "align_content": null,
      "align_items": null,
      "align_self": null,
      "border": null,
      "bottom": null,
      "display": null,
      "flex": null,
      "flex_flow": null,
      "grid_area": null,
      "grid_auto_columns": null,
      "grid_auto_flow": null,
      "grid_auto_rows": null,
      "grid_column": null,
      "grid_gap": null,
      "grid_row": null,
      "grid_template_areas": null,
      "grid_template_columns": null,
      "grid_template_rows": null,
      "height": null,
      "justify_content": null,
      "justify_items": null,
      "left": null,
      "margin": null,
      "max_height": null,
      "max_width": null,
      "min_height": null,
      "min_width": null,
      "object_fit": null,
      "object_position": null,
      "order": null,
      "overflow": null,
      "overflow_x": null,
      "overflow_y": null,
      "padding": null,
      "right": null,
      "top": null,
      "visibility": null,
      "width": null
     }
    },
    "6c2c1fe719ef4f56aeda614fa4623288": {
     "model_module": "@jupyter-widgets/controls",
     "model_module_version": "1.5.0",
     "model_name": "HTMLModel",
     "state": {
      "_dom_classes": [],
      "_model_module": "@jupyter-widgets/controls",
      "_model_module_version": "1.5.0",
      "_model_name": "HTMLModel",
      "_view_count": null,
      "_view_module": "@jupyter-widgets/controls",
      "_view_module_version": "1.5.0",
      "_view_name": "HTMLView",
      "description": "",
      "description_tooltip": null,
      "layout": "IPY_MODEL_8ad496038c24463794231fe84db89bdf",
      "placeholder": "​",
      "style": "IPY_MODEL_07d2364dce58426ca6461d4ecdc971bb",
      "value": "vocab.txt: 100%"
     }
    },
    "6d755b033b60489398f46e422794c4d8": {
     "model_module": "@jupyter-widgets/controls",
     "model_module_version": "1.5.0",
     "model_name": "HTMLModel",
     "state": {
      "_dom_classes": [],
      "_model_module": "@jupyter-widgets/controls",
      "_model_module_version": "1.5.0",
      "_model_name": "HTMLModel",
      "_view_count": null,
      "_view_module": "@jupyter-widgets/controls",
      "_view_module_version": "1.5.0",
      "_view_name": "HTMLView",
      "description": "",
      "description_tooltip": null,
      "layout": "IPY_MODEL_c2bfff22b0f64e5eb5ffd01fa56933e0",
      "placeholder": "​",
      "style": "IPY_MODEL_1f8fa69c42bd43d7b779539b1cb86ea7",
      "value": " 242k/242k [00:00&lt;00:00, 2.58MB/s]"
     }
    },
    "6f83f8b3b48146b79c9eb172562d7579": {
     "model_module": "@jupyter-widgets/controls",
     "model_module_version": "1.5.0",
     "model_name": "HBoxModel",
     "state": {
      "_dom_classes": [],
      "_model_module": "@jupyter-widgets/controls",
      "_model_module_version": "1.5.0",
      "_model_name": "HBoxModel",
      "_view_count": null,
      "_view_module": "@jupyter-widgets/controls",
      "_view_module_version": "1.5.0",
      "_view_name": "HBoxView",
      "box_style": "",
      "children": [
       "IPY_MODEL_c23b8892dc864d6aa607249d68463e1e",
       "IPY_MODEL_85b5d5f8c1314eb88a52bd4a858b91f2",
       "IPY_MODEL_62308e3292ad4c5985bcabc009cab7cc"
      ],
      "layout": "IPY_MODEL_1725a6c935ea4a379d9881025840b6cd"
     }
    },
    "73548760d6e943ea952486e3eeccfbf0": {
     "model_module": "@jupyter-widgets/controls",
     "model_module_version": "1.5.0",
     "model_name": "DescriptionStyleModel",
     "state": {
      "_model_module": "@jupyter-widgets/controls",
      "_model_module_version": "1.5.0",
      "_model_name": "DescriptionStyleModel",
      "_view_count": null,
      "_view_module": "@jupyter-widgets/base",
      "_view_module_version": "1.2.0",
      "_view_name": "StyleView",
      "description_width": ""
     }
    },
    "78f8317daf424e2f8526488bd6075c16": {
     "model_module": "@jupyter-widgets/base",
     "model_module_version": "1.2.0",
     "model_name": "LayoutModel",
     "state": {
      "_model_module": "@jupyter-widgets/base",
      "_model_module_version": "1.2.0",
      "_model_name": "LayoutModel",
      "_view_count": null,
      "_view_module": "@jupyter-widgets/base",
      "_view_module_version": "1.2.0",
      "_view_name": "LayoutView",
      "align_content": null,
      "align_items": null,
      "align_self": null,
      "border": null,
      "bottom": null,
      "display": null,
      "flex": null,
      "flex_flow": null,
      "grid_area": null,
      "grid_auto_columns": null,
      "grid_auto_flow": null,
      "grid_auto_rows": null,
      "grid_column": null,
      "grid_gap": null,
      "grid_row": null,
      "grid_template_areas": null,
      "grid_template_columns": null,
      "grid_template_rows": null,
      "height": null,
      "justify_content": null,
      "justify_items": null,
      "left": null,
      "margin": null,
      "max_height": null,
      "max_width": null,
      "min_height": null,
      "min_width": null,
      "object_fit": null,
      "object_position": null,
      "order": null,
      "overflow": null,
      "overflow_x": null,
      "overflow_y": null,
      "padding": null,
      "right": null,
      "top": null,
      "visibility": null,
      "width": null
     }
    },
    "79771a42a7c14bef83dae4f44f3983b4": {
     "model_module": "@jupyter-widgets/base",
     "model_module_version": "1.2.0",
     "model_name": "LayoutModel",
     "state": {
      "_model_module": "@jupyter-widgets/base",
      "_model_module_version": "1.2.0",
      "_model_name": "LayoutModel",
      "_view_count": null,
      "_view_module": "@jupyter-widgets/base",
      "_view_module_version": "1.2.0",
      "_view_name": "LayoutView",
      "align_content": null,
      "align_items": null,
      "align_self": null,
      "border": null,
      "bottom": null,
      "display": null,
      "flex": null,
      "flex_flow": null,
      "grid_area": null,
      "grid_auto_columns": null,
      "grid_auto_flow": null,
      "grid_auto_rows": null,
      "grid_column": null,
      "grid_gap": null,
      "grid_row": null,
      "grid_template_areas": null,
      "grid_template_columns": null,
      "grid_template_rows": null,
      "height": null,
      "justify_content": null,
      "justify_items": null,
      "left": null,
      "margin": null,
      "max_height": null,
      "max_width": null,
      "min_height": null,
      "min_width": null,
      "object_fit": null,
      "object_position": null,
      "order": null,
      "overflow": null,
      "overflow_x": null,
      "overflow_y": null,
      "padding": null,
      "right": null,
      "top": null,
      "visibility": null,
      "width": null
     }
    },
    "7a909797daab4060aa750f955574805c": {
     "model_module": "@jupyter-widgets/controls",
     "model_module_version": "1.5.0",
     "model_name": "DescriptionStyleModel",
     "state": {
      "_model_module": "@jupyter-widgets/controls",
      "_model_module_version": "1.5.0",
      "_model_name": "DescriptionStyleModel",
      "_view_count": null,
      "_view_module": "@jupyter-widgets/base",
      "_view_module_version": "1.2.0",
      "_view_name": "StyleView",
      "description_width": ""
     }
    },
    "7ab87ff106944ca09f54402fe7b4c687": {
     "model_module": "@jupyter-widgets/controls",
     "model_module_version": "1.5.0",
     "model_name": "HTMLModel",
     "state": {
      "_dom_classes": [],
      "_model_module": "@jupyter-widgets/controls",
      "_model_module_version": "1.5.0",
      "_model_name": "HTMLModel",
      "_view_count": null,
      "_view_module": "@jupyter-widgets/controls",
      "_view_module_version": "1.5.0",
      "_view_name": "HTMLView",
      "description": "",
      "description_tooltip": null,
      "layout": "IPY_MODEL_b09b593d61104e8e906d05f71c10357f",
      "placeholder": "​",
      "style": "IPY_MODEL_7a909797daab4060aa750f955574805c",
      "value": " 112/112 [00:00&lt;00:00, 2.28kB/s]"
     }
    },
    "7b71231429804b22a4cf9b1bfa33f19e": {
     "model_module": "@jupyter-widgets/controls",
     "model_module_version": "1.5.0",
     "model_name": "DescriptionStyleModel",
     "state": {
      "_model_module": "@jupyter-widgets/controls",
      "_model_module_version": "1.5.0",
      "_model_name": "DescriptionStyleModel",
      "_view_count": null,
      "_view_module": "@jupyter-widgets/base",
      "_view_module_version": "1.2.0",
      "_view_name": "StyleView",
      "description_width": ""
     }
    },
    "7c9d629524b94aa3a4fc9ab41245fdac": {
     "model_module": "@jupyter-widgets/controls",
     "model_module_version": "1.5.0",
     "model_name": "HBoxModel",
     "state": {
      "_dom_classes": [],
      "_model_module": "@jupyter-widgets/controls",
      "_model_module_version": "1.5.0",
      "_model_name": "HBoxModel",
      "_view_count": null,
      "_view_module": "@jupyter-widgets/controls",
      "_view_module_version": "1.5.0",
      "_view_name": "HBoxView",
      "box_style": "",
      "children": [
       "IPY_MODEL_8671de19ac854d6eb9e37af3710af3b0",
       "IPY_MODEL_c3ac34c68e8347788f12e4a2de442a4d",
       "IPY_MODEL_d34434ab01e849f59adb0d464612a381"
      ],
      "layout": "IPY_MODEL_7e14845ff2a24ec0908d05dbcb336b89"
     }
    },
    "7e14845ff2a24ec0908d05dbcb336b89": {
     "model_module": "@jupyter-widgets/base",
     "model_module_version": "1.2.0",
     "model_name": "LayoutModel",
     "state": {
      "_model_module": "@jupyter-widgets/base",
      "_model_module_version": "1.2.0",
      "_model_name": "LayoutModel",
      "_view_count": null,
      "_view_module": "@jupyter-widgets/base",
      "_view_module_version": "1.2.0",
      "_view_name": "LayoutView",
      "align_content": null,
      "align_items": null,
      "align_self": null,
      "border": null,
      "bottom": null,
      "display": null,
      "flex": null,
      "flex_flow": null,
      "grid_area": null,
      "grid_auto_columns": null,
      "grid_auto_flow": null,
      "grid_auto_rows": null,
      "grid_column": null,
      "grid_gap": null,
      "grid_row": null,
      "grid_template_areas": null,
      "grid_template_columns": null,
      "grid_template_rows": null,
      "height": null,
      "justify_content": null,
      "justify_items": null,
      "left": null,
      "margin": null,
      "max_height": null,
      "max_width": null,
      "min_height": null,
      "min_width": null,
      "object_fit": null,
      "object_position": null,
      "order": null,
      "overflow": null,
      "overflow_x": null,
      "overflow_y": null,
      "padding": null,
      "right": null,
      "top": null,
      "visibility": null,
      "width": null
     }
    },
    "7f129822b7464b719fcc4a8c44bbe9be": {
     "model_module": "@jupyter-widgets/controls",
     "model_module_version": "1.5.0",
     "model_name": "ProgressStyleModel",
     "state": {
      "_model_module": "@jupyter-widgets/controls",
      "_model_module_version": "1.5.0",
      "_model_name": "ProgressStyleModel",
      "_view_count": null,
      "_view_module": "@jupyter-widgets/base",
      "_view_module_version": "1.2.0",
      "_view_name": "StyleView",
      "bar_color": null,
      "description_width": ""
     }
    },
    "8420209fbf2242b7b3cc9ed40a2ff2da": {
     "model_module": "@jupyter-widgets/controls",
     "model_module_version": "1.5.0",
     "model_name": "DescriptionStyleModel",
     "state": {
      "_model_module": "@jupyter-widgets/controls",
      "_model_module_version": "1.5.0",
      "_model_name": "DescriptionStyleModel",
      "_view_count": null,
      "_view_module": "@jupyter-widgets/base",
      "_view_module_version": "1.2.0",
      "_view_name": "StyleView",
      "description_width": ""
     }
    },
    "85b5d5f8c1314eb88a52bd4a858b91f2": {
     "model_module": "@jupyter-widgets/controls",
     "model_module_version": "1.5.0",
     "model_name": "FloatProgressModel",
     "state": {
      "_dom_classes": [],
      "_model_module": "@jupyter-widgets/controls",
      "_model_module_version": "1.5.0",
      "_model_name": "FloatProgressModel",
      "_view_count": null,
      "_view_module": "@jupyter-widgets/controls",
      "_view_module_version": "1.5.0",
      "_view_name": "ProgressView",
      "bar_style": "success",
      "description": "",
      "description_tooltip": null,
      "layout": "IPY_MODEL_78f8317daf424e2f8526488bd6075c16",
      "max": 439433204,
      "min": 0,
      "orientation": "horizontal",
      "style": "IPY_MODEL_d6d29a321c88410e87312d33bebd2eb4",
      "value": 439433204
     }
    },
    "8671de19ac854d6eb9e37af3710af3b0": {
     "model_module": "@jupyter-widgets/controls",
     "model_module_version": "1.5.0",
     "model_name": "HTMLModel",
     "state": {
      "_dom_classes": [],
      "_model_module": "@jupyter-widgets/controls",
      "_model_module_version": "1.5.0",
      "_model_name": "HTMLModel",
      "_view_count": null,
      "_view_module": "@jupyter-widgets/controls",
      "_view_module_version": "1.5.0",
      "_view_name": "HTMLView",
      "description": "",
      "description_tooltip": null,
      "layout": "IPY_MODEL_5c130489d6064eca8c15f06b2e611324",
      "placeholder": "​",
      "style": "IPY_MODEL_f828914feb6048f0834ccaebca3cf863",
      "value": "config.json: 100%"
     }
    },
    "8ad496038c24463794231fe84db89bdf": {
     "model_module": "@jupyter-widgets/base",
     "model_module_version": "1.2.0",
     "model_name": "LayoutModel",
     "state": {
      "_model_module": "@jupyter-widgets/base",
      "_model_module_version": "1.2.0",
      "_model_name": "LayoutModel",
      "_view_count": null,
      "_view_module": "@jupyter-widgets/base",
      "_view_module_version": "1.2.0",
      "_view_name": "LayoutView",
      "align_content": null,
      "align_items": null,
      "align_self": null,
      "border": null,
      "bottom": null,
      "display": null,
      "flex": null,
      "flex_flow": null,
      "grid_area": null,
      "grid_auto_columns": null,
      "grid_auto_flow": null,
      "grid_auto_rows": null,
      "grid_column": null,
      "grid_gap": null,
      "grid_row": null,
      "grid_template_areas": null,
      "grid_template_columns": null,
      "grid_template_rows": null,
      "height": null,
      "justify_content": null,
      "justify_items": null,
      "left": null,
      "margin": null,
      "max_height": null,
      "max_width": null,
      "min_height": null,
      "min_width": null,
      "object_fit": null,
      "object_position": null,
      "order": null,
      "overflow": null,
      "overflow_x": null,
      "overflow_y": null,
      "padding": null,
      "right": null,
      "top": null,
      "visibility": null,
      "width": null
     }
    },
    "8cbd64cb3829441eba7fc10757e07df5": {
     "model_module": "@jupyter-widgets/controls",
     "model_module_version": "1.5.0",
     "model_name": "HBoxModel",
     "state": {
      "_dom_classes": [],
      "_model_module": "@jupyter-widgets/controls",
      "_model_module_version": "1.5.0",
      "_model_name": "HBoxModel",
      "_view_count": null,
      "_view_module": "@jupyter-widgets/controls",
      "_view_module_version": "1.5.0",
      "_view_name": "HBoxView",
      "box_style": "",
      "children": [
       "IPY_MODEL_6c2c1fe719ef4f56aeda614fa4623288",
       "IPY_MODEL_2f3eeb9d722a411f97a71be899e9d649",
       "IPY_MODEL_6d755b033b60489398f46e422794c4d8"
      ],
      "layout": "IPY_MODEL_c38e0961872d43f79f560fae360ff534"
     }
    },
    "9073b9c6e0704ea097911623df126b8f": {
     "model_module": "@jupyter-widgets/controls",
     "model_module_version": "1.5.0",
     "model_name": "DescriptionStyleModel",
     "state": {
      "_model_module": "@jupyter-widgets/controls",
      "_model_module_version": "1.5.0",
      "_model_name": "DescriptionStyleModel",
      "_view_count": null,
      "_view_module": "@jupyter-widgets/base",
      "_view_module_version": "1.2.0",
      "_view_name": "StyleView",
      "description_width": ""
     }
    },
    "9f1b3233b5b54187936dbeae0c38ae4c": {
     "model_module": "@jupyter-widgets/base",
     "model_module_version": "1.2.0",
     "model_name": "LayoutModel",
     "state": {
      "_model_module": "@jupyter-widgets/base",
      "_model_module_version": "1.2.0",
      "_model_name": "LayoutModel",
      "_view_count": null,
      "_view_module": "@jupyter-widgets/base",
      "_view_module_version": "1.2.0",
      "_view_name": "LayoutView",
      "align_content": null,
      "align_items": null,
      "align_self": null,
      "border": null,
      "bottom": null,
      "display": null,
      "flex": null,
      "flex_flow": null,
      "grid_area": null,
      "grid_auto_columns": null,
      "grid_auto_flow": null,
      "grid_auto_rows": null,
      "grid_column": null,
      "grid_gap": null,
      "grid_row": null,
      "grid_template_areas": null,
      "grid_template_columns": null,
      "grid_template_rows": null,
      "height": null,
      "justify_content": null,
      "justify_items": null,
      "left": null,
      "margin": null,
      "max_height": null,
      "max_width": null,
      "min_height": null,
      "min_width": null,
      "object_fit": null,
      "object_position": null,
      "order": null,
      "overflow": null,
      "overflow_x": null,
      "overflow_y": null,
      "padding": null,
      "right": null,
      "top": null,
      "visibility": null,
      "width": null
     }
    },
    "a0182ec1673e4d1a8962b2592497f15e": {
     "model_module": "@jupyter-widgets/controls",
     "model_module_version": "1.5.0",
     "model_name": "HTMLModel",
     "state": {
      "_dom_classes": [],
      "_model_module": "@jupyter-widgets/controls",
      "_model_module_version": "1.5.0",
      "_model_name": "HTMLModel",
      "_view_count": null,
      "_view_module": "@jupyter-widgets/controls",
      "_view_module_version": "1.5.0",
      "_view_name": "HTMLView",
      "description": "",
      "description_tooltip": null,
      "layout": "IPY_MODEL_43792035a8034943b1beb02821dcb429",
      "placeholder": "​",
      "style": "IPY_MODEL_9073b9c6e0704ea097911623df126b8f",
      "value": "tokenizer_config.json: 100%"
     }
    },
    "aaeb3dc34a46462cbee16a6caf6e37b8": {
     "model_module": "@jupyter-widgets/base",
     "model_module_version": "1.2.0",
     "model_name": "LayoutModel",
     "state": {
      "_model_module": "@jupyter-widgets/base",
      "_model_module_version": "1.2.0",
      "_model_name": "LayoutModel",
      "_view_count": null,
      "_view_module": "@jupyter-widgets/base",
      "_view_module_version": "1.2.0",
      "_view_name": "LayoutView",
      "align_content": null,
      "align_items": null,
      "align_self": null,
      "border": null,
      "bottom": null,
      "display": null,
      "flex": null,
      "flex_flow": null,
      "grid_area": null,
      "grid_auto_columns": null,
      "grid_auto_flow": null,
      "grid_auto_rows": null,
      "grid_column": null,
      "grid_gap": null,
      "grid_row": null,
      "grid_template_areas": null,
      "grid_template_columns": null,
      "grid_template_rows": null,
      "height": null,
      "justify_content": null,
      "justify_items": null,
      "left": null,
      "margin": null,
      "max_height": null,
      "max_width": null,
      "min_height": null,
      "min_width": null,
      "object_fit": null,
      "object_position": null,
      "order": null,
      "overflow": null,
      "overflow_x": null,
      "overflow_y": null,
      "padding": null,
      "right": null,
      "top": null,
      "visibility": null,
      "width": null
     }
    },
    "b09b593d61104e8e906d05f71c10357f": {
     "model_module": "@jupyter-widgets/base",
     "model_module_version": "1.2.0",
     "model_name": "LayoutModel",
     "state": {
      "_model_module": "@jupyter-widgets/base",
      "_model_module_version": "1.2.0",
      "_model_name": "LayoutModel",
      "_view_count": null,
      "_view_module": "@jupyter-widgets/base",
      "_view_module_version": "1.2.0",
      "_view_name": "LayoutView",
      "align_content": null,
      "align_items": null,
      "align_self": null,
      "border": null,
      "bottom": null,
      "display": null,
      "flex": null,
      "flex_flow": null,
      "grid_area": null,
      "grid_auto_columns": null,
      "grid_auto_flow": null,
      "grid_auto_rows": null,
      "grid_column": null,
      "grid_gap": null,
      "grid_row": null,
      "grid_template_areas": null,
      "grid_template_columns": null,
      "grid_template_rows": null,
      "height": null,
      "justify_content": null,
      "justify_items": null,
      "left": null,
      "margin": null,
      "max_height": null,
      "max_width": null,
      "min_height": null,
      "min_width": null,
      "object_fit": null,
      "object_position": null,
      "order": null,
      "overflow": null,
      "overflow_x": null,
      "overflow_y": null,
      "padding": null,
      "right": null,
      "top": null,
      "visibility": null,
      "width": null
     }
    },
    "b0bb72b0b5484942b1f6df7dd6f18771": {
     "model_module": "@jupyter-widgets/controls",
     "model_module_version": "1.5.0",
     "model_name": "HBoxModel",
     "state": {
      "_dom_classes": [],
      "_model_module": "@jupyter-widgets/controls",
      "_model_module_version": "1.5.0",
      "_model_name": "HBoxModel",
      "_view_count": null,
      "_view_module": "@jupyter-widgets/controls",
      "_view_module_version": "1.5.0",
      "_view_name": "HBoxView",
      "box_style": "",
      "children": [
       "IPY_MODEL_3003950b512947a98d02e417fd6ce053",
       "IPY_MODEL_08ddbdd18e8640699b63deae6f9e2ec3",
       "IPY_MODEL_f1154e32b9e245d8be371687a2a3387f"
      ],
      "layout": "IPY_MODEL_aaeb3dc34a46462cbee16a6caf6e37b8"
     }
    },
    "b686ce3479984162b17cfc85475f5ae9": {
     "model_module": "@jupyter-widgets/controls",
     "model_module_version": "1.5.0",
     "model_name": "HBoxModel",
     "state": {
      "_dom_classes": [],
      "_model_module": "@jupyter-widgets/controls",
      "_model_module_version": "1.5.0",
      "_model_name": "HBoxModel",
      "_view_count": null,
      "_view_module": "@jupyter-widgets/controls",
      "_view_module_version": "1.5.0",
      "_view_name": "HBoxView",
      "box_style": "",
      "children": [
       "IPY_MODEL_4eed19b9618b4b82b24da89e66cefc24",
       "IPY_MODEL_d0a9be09e597405da7be5c663010f09b",
       "IPY_MODEL_7ab87ff106944ca09f54402fe7b4c687"
      ],
      "layout": "IPY_MODEL_f9f9f27221744976960f31827045eceb"
     }
    },
    "c23b8892dc864d6aa607249d68463e1e": {
     "model_module": "@jupyter-widgets/controls",
     "model_module_version": "1.5.0",
     "model_name": "HTMLModel",
     "state": {
      "_dom_classes": [],
      "_model_module": "@jupyter-widgets/controls",
      "_model_module_version": "1.5.0",
      "_model_name": "HTMLModel",
      "_view_count": null,
      "_view_module": "@jupyter-widgets/controls",
      "_view_module_version": "1.5.0",
      "_view_name": "HTMLView",
      "description": "",
      "description_tooltip": null,
      "layout": "IPY_MODEL_2d99930b14c444e5bc7e1dce0b391a7c",
      "placeholder": "​",
      "style": "IPY_MODEL_328ca4e6106f4f5699cae688a122a05d",
      "value": "model.safetensors: 100%"
     }
    },
    "c2bfff22b0f64e5eb5ffd01fa56933e0": {
     "model_module": "@jupyter-widgets/base",
     "model_module_version": "1.2.0",
     "model_name": "LayoutModel",
     "state": {
      "_model_module": "@jupyter-widgets/base",
      "_model_module_version": "1.2.0",
      "_model_name": "LayoutModel",
      "_view_count": null,
      "_view_module": "@jupyter-widgets/base",
      "_view_module_version": "1.2.0",
      "_view_name": "LayoutView",
      "align_content": null,
      "align_items": null,
      "align_self": null,
      "border": null,
      "bottom": null,
      "display": null,
      "flex": null,
      "flex_flow": null,
      "grid_area": null,
      "grid_auto_columns": null,
      "grid_auto_flow": null,
      "grid_auto_rows": null,
      "grid_column": null,
      "grid_gap": null,
      "grid_row": null,
      "grid_template_areas": null,
      "grid_template_columns": null,
      "grid_template_rows": null,
      "height": null,
      "justify_content": null,
      "justify_items": null,
      "left": null,
      "margin": null,
      "max_height": null,
      "max_width": null,
      "min_height": null,
      "min_width": null,
      "object_fit": null,
      "object_position": null,
      "order": null,
      "overflow": null,
      "overflow_x": null,
      "overflow_y": null,
      "padding": null,
      "right": null,
      "top": null,
      "visibility": null,
      "width": null
     }
    },
    "c38e0961872d43f79f560fae360ff534": {
     "model_module": "@jupyter-widgets/base",
     "model_module_version": "1.2.0",
     "model_name": "LayoutModel",
     "state": {
      "_model_module": "@jupyter-widgets/base",
      "_model_module_version": "1.2.0",
      "_model_name": "LayoutModel",
      "_view_count": null,
      "_view_module": "@jupyter-widgets/base",
      "_view_module_version": "1.2.0",
      "_view_name": "LayoutView",
      "align_content": null,
      "align_items": null,
      "align_self": null,
      "border": null,
      "bottom": null,
      "display": null,
      "flex": null,
      "flex_flow": null,
      "grid_area": null,
      "grid_auto_columns": null,
      "grid_auto_flow": null,
      "grid_auto_rows": null,
      "grid_column": null,
      "grid_gap": null,
      "grid_row": null,
      "grid_template_areas": null,
      "grid_template_columns": null,
      "grid_template_rows": null,
      "height": null,
      "justify_content": null,
      "justify_items": null,
      "left": null,
      "margin": null,
      "max_height": null,
      "max_width": null,
      "min_height": null,
      "min_width": null,
      "object_fit": null,
      "object_position": null,
      "order": null,
      "overflow": null,
      "overflow_x": null,
      "overflow_y": null,
      "padding": null,
      "right": null,
      "top": null,
      "visibility": null,
      "width": null
     }
    },
    "c3ac34c68e8347788f12e4a2de442a4d": {
     "model_module": "@jupyter-widgets/controls",
     "model_module_version": "1.5.0",
     "model_name": "FloatProgressModel",
     "state": {
      "_dom_classes": [],
      "_model_module": "@jupyter-widgets/controls",
      "_model_module_version": "1.5.0",
      "_model_name": "FloatProgressModel",
      "_view_count": null,
      "_view_module": "@jupyter-widgets/controls",
      "_view_module_version": "1.5.0",
      "_view_name": "ProgressView",
      "bar_style": "success",
      "description": "",
      "description_tooltip": null,
      "layout": "IPY_MODEL_35a90bb8790646a492d5fa0d39df940c",
      "max": 465,
      "min": 0,
      "orientation": "horizontal",
      "style": "IPY_MODEL_7f129822b7464b719fcc4a8c44bbe9be",
      "value": 465
     }
    },
    "d0a9be09e597405da7be5c663010f09b": {
     "model_module": "@jupyter-widgets/controls",
     "model_module_version": "1.5.0",
     "model_name": "FloatProgressModel",
     "state": {
      "_dom_classes": [],
      "_model_module": "@jupyter-widgets/controls",
      "_model_module_version": "1.5.0",
      "_model_name": "FloatProgressModel",
      "_view_count": null,
      "_view_module": "@jupyter-widgets/controls",
      "_view_module_version": "1.5.0",
      "_view_name": "ProgressView",
      "bar_style": "success",
      "description": "",
      "description_tooltip": null,
      "layout": "IPY_MODEL_3b28fdb10235411a8c20d342f96fd04f",
      "max": 112,
      "min": 0,
      "orientation": "horizontal",
      "style": "IPY_MODEL_0fd0606a89764ba29cb10af53bd8ec0d",
      "value": 112
     }
    },
    "d34434ab01e849f59adb0d464612a381": {
     "model_module": "@jupyter-widgets/controls",
     "model_module_version": "1.5.0",
     "model_name": "HTMLModel",
     "state": {
      "_dom_classes": [],
      "_model_module": "@jupyter-widgets/controls",
      "_model_module_version": "1.5.0",
      "_model_name": "HTMLModel",
      "_view_count": null,
      "_view_module": "@jupyter-widgets/controls",
      "_view_module_version": "1.5.0",
      "_view_name": "HTMLView",
      "description": "",
      "description_tooltip": null,
      "layout": "IPY_MODEL_ecde2a018380428288ccde6679640b19",
      "placeholder": "​",
      "style": "IPY_MODEL_eedd353bdee04f5482b902f3d2648f39",
      "value": " 465/465 [00:00&lt;00:00, 35.9kB/s]"
     }
    },
    "d6d29a321c88410e87312d33bebd2eb4": {
     "model_module": "@jupyter-widgets/controls",
     "model_module_version": "1.5.0",
     "model_name": "ProgressStyleModel",
     "state": {
      "_model_module": "@jupyter-widgets/controls",
      "_model_module_version": "1.5.0",
      "_model_name": "ProgressStyleModel",
      "_view_count": null,
      "_view_module": "@jupyter-widgets/base",
      "_view_module_version": "1.2.0",
      "_view_name": "StyleView",
      "bar_color": null,
      "description_width": ""
     }
    },
    "da759ba2fc254867be8a40bc14b1cb59": {
     "model_module": "@jupyter-widgets/base",
     "model_module_version": "1.2.0",
     "model_name": "LayoutModel",
     "state": {
      "_model_module": "@jupyter-widgets/base",
      "_model_module_version": "1.2.0",
      "_model_name": "LayoutModel",
      "_view_count": null,
      "_view_module": "@jupyter-widgets/base",
      "_view_module_version": "1.2.0",
      "_view_name": "LayoutView",
      "align_content": null,
      "align_items": null,
      "align_self": null,
      "border": null,
      "bottom": null,
      "display": null,
      "flex": null,
      "flex_flow": null,
      "grid_area": null,
      "grid_auto_columns": null,
      "grid_auto_flow": null,
      "grid_auto_rows": null,
      "grid_column": null,
      "grid_gap": null,
      "grid_row": null,
      "grid_template_areas": null,
      "grid_template_columns": null,
      "grid_template_rows": null,
      "height": null,
      "justify_content": null,
      "justify_items": null,
      "left": null,
      "margin": null,
      "max_height": null,
      "max_width": null,
      "min_height": null,
      "min_width": null,
      "object_fit": null,
      "object_position": null,
      "order": null,
      "overflow": null,
      "overflow_x": null,
      "overflow_y": null,
      "padding": null,
      "right": null,
      "top": null,
      "visibility": null,
      "width": null
     }
    },
    "eb0c30569a03487bb96d509b17c87bc1": {
     "model_module": "@jupyter-widgets/base",
     "model_module_version": "1.2.0",
     "model_name": "LayoutModel",
     "state": {
      "_model_module": "@jupyter-widgets/base",
      "_model_module_version": "1.2.0",
      "_model_name": "LayoutModel",
      "_view_count": null,
      "_view_module": "@jupyter-widgets/base",
      "_view_module_version": "1.2.0",
      "_view_name": "LayoutView",
      "align_content": null,
      "align_items": null,
      "align_self": null,
      "border": null,
      "bottom": null,
      "display": null,
      "flex": null,
      "flex_flow": null,
      "grid_area": null,
      "grid_auto_columns": null,
      "grid_auto_flow": null,
      "grid_auto_rows": null,
      "grid_column": null,
      "grid_gap": null,
      "grid_row": null,
      "grid_template_areas": null,
      "grid_template_columns": null,
      "grid_template_rows": null,
      "height": null,
      "justify_content": null,
      "justify_items": null,
      "left": null,
      "margin": null,
      "max_height": null,
      "max_width": null,
      "min_height": null,
      "min_width": null,
      "object_fit": null,
      "object_position": null,
      "order": null,
      "overflow": null,
      "overflow_x": null,
      "overflow_y": null,
      "padding": null,
      "right": null,
      "top": null,
      "visibility": null,
      "width": null
     }
    },
    "ecde2a018380428288ccde6679640b19": {
     "model_module": "@jupyter-widgets/base",
     "model_module_version": "1.2.0",
     "model_name": "LayoutModel",
     "state": {
      "_model_module": "@jupyter-widgets/base",
      "_model_module_version": "1.2.0",
      "_model_name": "LayoutModel",
      "_view_count": null,
      "_view_module": "@jupyter-widgets/base",
      "_view_module_version": "1.2.0",
      "_view_name": "LayoutView",
      "align_content": null,
      "align_items": null,
      "align_self": null,
      "border": null,
      "bottom": null,
      "display": null,
      "flex": null,
      "flex_flow": null,
      "grid_area": null,
      "grid_auto_columns": null,
      "grid_auto_flow": null,
      "grid_auto_rows": null,
      "grid_column": null,
      "grid_gap": null,
      "grid_row": null,
      "grid_template_areas": null,
      "grid_template_columns": null,
      "grid_template_rows": null,
      "height": null,
      "justify_content": null,
      "justify_items": null,
      "left": null,
      "margin": null,
      "max_height": null,
      "max_width": null,
      "min_height": null,
      "min_width": null,
      "object_fit": null,
      "object_position": null,
      "order": null,
      "overflow": null,
      "overflow_x": null,
      "overflow_y": null,
      "padding": null,
      "right": null,
      "top": null,
      "visibility": null,
      "width": null
     }
    },
    "ed720a335bf940918ee1a870a2c13888": {
     "model_module": "@jupyter-widgets/controls",
     "model_module_version": "1.5.0",
     "model_name": "DescriptionStyleModel",
     "state": {
      "_model_module": "@jupyter-widgets/controls",
      "_model_module_version": "1.5.0",
      "_model_name": "DescriptionStyleModel",
      "_view_count": null,
      "_view_module": "@jupyter-widgets/base",
      "_view_module_version": "1.2.0",
      "_view_name": "StyleView",
      "description_width": ""
     }
    },
    "eedd353bdee04f5482b902f3d2648f39": {
     "model_module": "@jupyter-widgets/controls",
     "model_module_version": "1.5.0",
     "model_name": "DescriptionStyleModel",
     "state": {
      "_model_module": "@jupyter-widgets/controls",
      "_model_module_version": "1.5.0",
      "_model_name": "DescriptionStyleModel",
      "_view_count": null,
      "_view_module": "@jupyter-widgets/base",
      "_view_module_version": "1.2.0",
      "_view_name": "StyleView",
      "description_width": ""
     }
    },
    "f005b605d664486597149952e94d7d4b": {
     "model_module": "@jupyter-widgets/controls",
     "model_module_version": "1.5.0",
     "model_name": "FloatProgressModel",
     "state": {
      "_dom_classes": [],
      "_model_module": "@jupyter-widgets/controls",
      "_model_module_version": "1.5.0",
      "_model_name": "FloatProgressModel",
      "_view_count": null,
      "_view_module": "@jupyter-widgets/controls",
      "_view_module_version": "1.5.0",
      "_view_name": "ProgressView",
      "bar_style": "success",
      "description": "",
      "description_tooltip": null,
      "layout": "IPY_MODEL_eb0c30569a03487bb96d509b17c87bc1",
      "max": 135,
      "min": 0,
      "orientation": "horizontal",
      "style": "IPY_MODEL_14b2056faf3f4e238592c92e57ff43ee",
      "value": 135
     }
    },
    "f1154e32b9e245d8be371687a2a3387f": {
     "model_module": "@jupyter-widgets/controls",
     "model_module_version": "1.5.0",
     "model_name": "HTMLModel",
     "state": {
      "_dom_classes": [],
      "_model_module": "@jupyter-widgets/controls",
      "_model_module_version": "1.5.0",
      "_model_name": "HTMLModel",
      "_view_count": null,
      "_view_module": "@jupyter-widgets/controls",
      "_view_module_version": "1.5.0",
      "_view_name": "HTMLView",
      "description": "",
      "description_tooltip": null,
      "layout": "IPY_MODEL_79771a42a7c14bef83dae4f44f3983b4",
      "placeholder": "​",
      "style": "IPY_MODEL_ed720a335bf940918ee1a870a2c13888",
      "value": " 439M/439M [00:02&lt;00:00, 176MB/s]"
     }
    },
    "f54145b4ce0043bb80500a5bd504e6b4": {
     "model_module": "@jupyter-widgets/base",
     "model_module_version": "1.2.0",
     "model_name": "LayoutModel",
     "state": {
      "_model_module": "@jupyter-widgets/base",
      "_model_module_version": "1.2.0",
      "_model_name": "LayoutModel",
      "_view_count": null,
      "_view_module": "@jupyter-widgets/base",
      "_view_module_version": "1.2.0",
      "_view_name": "LayoutView",
      "align_content": null,
      "align_items": null,
      "align_self": null,
      "border": null,
      "bottom": null,
      "display": null,
      "flex": null,
      "flex_flow": null,
      "grid_area": null,
      "grid_auto_columns": null,
      "grid_auto_flow": null,
      "grid_auto_rows": null,
      "grid_column": null,
      "grid_gap": null,
      "grid_row": null,
      "grid_template_areas": null,
      "grid_template_columns": null,
      "grid_template_rows": null,
      "height": null,
      "justify_content": null,
      "justify_items": null,
      "left": null,
      "margin": null,
      "max_height": null,
      "max_width": null,
      "min_height": null,
      "min_width": null,
      "object_fit": null,
      "object_position": null,
      "order": null,
      "overflow": null,
      "overflow_x": null,
      "overflow_y": null,
      "padding": null,
      "right": null,
      "top": null,
      "visibility": null,
      "width": null
     }
    },
    "f828914feb6048f0834ccaebca3cf863": {
     "model_module": "@jupyter-widgets/controls",
     "model_module_version": "1.5.0",
     "model_name": "DescriptionStyleModel",
     "state": {
      "_model_module": "@jupyter-widgets/controls",
      "_model_module_version": "1.5.0",
      "_model_name": "DescriptionStyleModel",
      "_view_count": null,
      "_view_module": "@jupyter-widgets/base",
      "_view_module_version": "1.2.0",
      "_view_name": "StyleView",
      "description_width": ""
     }
    },
    "f9f9f27221744976960f31827045eceb": {
     "model_module": "@jupyter-widgets/base",
     "model_module_version": "1.2.0",
     "model_name": "LayoutModel",
     "state": {
      "_model_module": "@jupyter-widgets/base",
      "_model_module_version": "1.2.0",
      "_model_name": "LayoutModel",
      "_view_count": null,
      "_view_module": "@jupyter-widgets/base",
      "_view_module_version": "1.2.0",
      "_view_name": "LayoutView",
      "align_content": null,
      "align_items": null,
      "align_self": null,
      "border": null,
      "bottom": null,
      "display": null,
      "flex": null,
      "flex_flow": null,
      "grid_area": null,
      "grid_auto_columns": null,
      "grid_auto_flow": null,
      "grid_auto_rows": null,
      "grid_column": null,
      "grid_gap": null,
      "grid_row": null,
      "grid_template_areas": null,
      "grid_template_columns": null,
      "grid_template_rows": null,
      "height": null,
      "justify_content": null,
      "justify_items": null,
      "left": null,
      "margin": null,
      "max_height": null,
      "max_width": null,
      "min_height": null,
      "min_width": null,
      "object_fit": null,
      "object_position": null,
      "order": null,
      "overflow": null,
      "overflow_x": null,
      "overflow_y": null,
      "padding": null,
      "right": null,
      "top": null,
      "visibility": null,
      "width": null
     }
    }
   }
  }
 },
 "nbformat": 4,
 "nbformat_minor": 0
}
